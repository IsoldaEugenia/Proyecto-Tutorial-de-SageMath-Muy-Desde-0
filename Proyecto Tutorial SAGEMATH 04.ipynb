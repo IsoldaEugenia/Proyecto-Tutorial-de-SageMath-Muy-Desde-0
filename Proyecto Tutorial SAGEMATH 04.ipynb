{
 "cells": [
  {
   "cell_type": "markdown",
   "metadata": {},
   "source": [
    "# 4. Sistemas de ecuaciones\n",
    "\n",
    "Vamos a ver un poquito de sistemas de ecuaciones lineales y quizás resolveremos también, porqué no, otros sistemas y/o ecuaciones no necesariamente lineales. Sage resuelve ecuaciones de diversos tipos, sistemas de ecuaciones de diversos tipos, y de manera exacta, aproximada y hasta con valores simbólicos.\n",
    "\n",
    "Para todo esto supondremos que un poco de matemática sabemos. "
   ]
  },
  {
   "cell_type": "code",
   "execution_count": null,
   "metadata": {},
   "outputs": [],
   "source": [
    "%display latex"
   ]
  },
  {
   "cell_type": "markdown",
   "metadata": {},
   "source": [
    " ## 4.1 Ecuaciones lineales y sistemas de ecuaciones lineales\n",
    " \n",
    "Vamos por partes, de a poco. Para resolver ecuaciones se usa el comando solve: hay que darle la ecuación y la variable."
   ]
  },
  {
   "cell_type": "code",
   "execution_count": null,
   "metadata": {
    "scrolled": true
   },
   "outputs": [],
   "source": [
    "solve( x + 1 == 0 , x)"
   ]
  },
  {
   "cell_type": "markdown",
   "metadata": {},
   "source": [
    "VERY IMPORTANT: dos cosas a tener mooooy en cuenta:\n",
    "\n",
    "1) el signo igual: va doble! ¿Porqué? Porque no es una asignación, es una *comparación*, uno *busca* los valores de $x$ de modo tal que la igualdad se verifique, y para eso se debe *comparar* cada miembro de la igualdad.\n",
    "\n",
    "2) la variable se llama 'x': si ponemos otra variable sin avisarle a SAGE que resuelva en función de esa variable, no lo va a interpretar:"
   ]
  },
  {
   "cell_type": "code",
   "execution_count": null,
   "metadata": {
    "scrolled": true
   },
   "outputs": [],
   "source": [
    "solve (t+1==0, t)"
   ]
  },
  {
   "cell_type": "markdown",
   "metadata": {},
   "source": [
    "Para avisarle a SAGE que 't' es la variable que nos interesa, usamos el comando var:"
   ]
  },
  {
   "cell_type": "code",
   "execution_count": null,
   "metadata": {},
   "outputs": [],
   "source": [
    "var('t')"
   ]
  },
  {
   "cell_type": "code",
   "execution_count": null,
   "metadata": {},
   "outputs": [],
   "source": [
    "solve (t+1==0, t)"
   ]
  },
  {
   "cell_type": "markdown",
   "metadata": {},
   "source": [
    "Para resolver un sistema de ecuaciones, hay que darle a SAGE una **lista** con las ecuaciones, pero primero demos las variables:"
   ]
  },
  {
   "cell_type": "code",
   "execution_count": null,
   "metadata": {},
   "outputs": [],
   "source": [
    "var('x,y')"
   ]
  },
  {
   "cell_type": "code",
   "execution_count": null,
   "metadata": {},
   "outputs": [],
   "source": [
    "solve([x + y == 2, x - y == 0], x, y)"
   ]
  },
  {
   "cell_type": "code",
   "execution_count": null,
   "metadata": {},
   "outputs": [],
   "source": [
    "solve([x + y == 2, 2*x + 2*y == 4], x, y)"
   ]
  },
  {
   "cell_type": "code",
   "execution_count": null,
   "metadata": {},
   "outputs": [],
   "source": [
    "solve([x + y == 2, 2*x + 2*y == 5], x, y)"
   ]
  },
  {
   "cell_type": "markdown",
   "metadata": {},
   "source": [
    "En los sistemas anteriores tenemos: el primero compatible determinado, el segundo compatible indeterminado (SAGE le llama r1 al parámetro, y si hubiera más les llamará r2, r3, etc.), y el último es incompatible."
   ]
  },
  {
   "cell_type": "markdown",
   "metadata": {},
   "source": [
    "A veces necesitamos nombrar a las ecuaciones, y luego armar la lista. Por ejemplo:"
   ]
  },
  {
   "cell_type": "code",
   "execution_count": null,
   "metadata": {},
   "outputs": [],
   "source": [
    "var('z')"
   ]
  },
  {
   "cell_type": "code",
   "execution_count": null,
   "metadata": {},
   "outputs": [],
   "source": [
    "ec1 = 2*x+4*y-3*z == 2"
   ]
  },
  {
   "cell_type": "markdown",
   "metadata": {},
   "source": [
    "Observar que x e y ya estaban definidas como variables, por eso sólo definí la z. También observar que el primer = es el que asigna la ecuación que sigue a la variable ec1."
   ]
  },
  {
   "cell_type": "code",
   "execution_count": null,
   "metadata": {},
   "outputs": [],
   "source": [
    "ec2 = -x-3*y+z == -1"
   ]
  },
  {
   "cell_type": "markdown",
   "metadata": {},
   "source": [
    "De nuevo, muestra la última. Tengamoslo en cuenta.\n",
    "\n",
    "Sigamos con productos y cocientes."
   ]
  },
  {
   "cell_type": "code",
   "execution_count": null,
   "metadata": {},
   "outputs": [],
   "source": [
    "solve([ec1,ec2],x,y,z)"
   ]
  },
  {
   "cell_type": "code",
   "execution_count": null,
   "metadata": {},
   "outputs": [],
   "source": [
    "solve([ec1,ec2],x,y)"
   ]
  },
  {
   "cell_type": "markdown",
   "metadata": {},
   "source": [
    "En el último renglón no le dijimos a SAGE que resuelva con z como una variable más, así que la resolvió de manera simbólica."
   ]
  },
  {
   "cell_type": "markdown",
   "metadata": {},
   "source": [
    "## 4.2 Formulación matricial"
   ]
  },
  {
   "cell_type": "markdown",
   "metadata": {},
   "source": [
    "Vamos a ver ahora la formulación matricial, que haremos *a mano*. En primer lugar, hay un comando que lleva una matriz a una forma escalonada, usando operaciones por filas. Se puede hacer de dos formas, con el comando .echelon_form(), que NO cambia la matriz por su nueva versión, y el comando .echelonize() que SÍ cambia la matriz. Veamos, arrancamos con una matriz cualquiera, pensemos una 3x4."
   ]
  },
  {
   "cell_type": "code",
   "execution_count": null,
   "metadata": {},
   "outputs": [],
   "source": [
    "A = matrix([[1,4,6,-1],[3,6,0,8],[0,-3,8,1],[1,-2,0,0]])\n",
    "A"
   ]
  },
  {
   "cell_type": "code",
   "execution_count": null,
   "metadata": {},
   "outputs": [],
   "source": [
    "A.echelon_form()"
   ]
  },
  {
   "cell_type": "code",
   "execution_count": null,
   "metadata": {},
   "outputs": [],
   "source": [
    "A"
   ]
  },
  {
   "cell_type": "code",
   "execution_count": null,
   "metadata": {},
   "outputs": [],
   "source": [
    "A.echelonize()"
   ]
  },
  {
   "cell_type": "code",
   "execution_count": null,
   "metadata": {},
   "outputs": [],
   "source": [
    "A"
   ]
  },
  {
   "cell_type": "markdown",
   "metadata": {},
   "source": [
    "O sea, que A cambió a una forma de escalón, equivalente por filas a la A original.\n",
    "\n",
    "IMPORTANTE: Otra cosa a observar es que NO está reducida.\n"
   ]
  },
  {
   "cell_type": "markdown",
   "metadata": {},
   "source": [
    "Vamos ahora a intentar resolver un sistema en forma matricial: AX=b."
   ]
  },
  {
   "cell_type": "code",
   "execution_count": null,
   "metadata": {},
   "outputs": [],
   "source": [
    "A = matrix([[1,4,6,-1],[3,6,0,8],[0,-3,8,1],[1,-2,0,0]])\n",
    "A"
   ]
  },
  {
   "cell_type": "code",
   "execution_count": null,
   "metadata": {},
   "outputs": [],
   "source": [
    "A.echelon_form()"
   ]
  },
  {
   "cell_type": "code",
   "execution_count": null,
   "metadata": {},
   "outputs": [],
   "source": [
    "B = matrix([[1],[4],[0],[0]]); B"
   ]
  },
  {
   "cell_type": "code",
   "execution_count": null,
   "metadata": {},
   "outputs": [],
   "source": [
    " X = A.solve_right(B); X"
   ]
  },
  {
   "cell_type": "code",
   "execution_count": null,
   "metadata": {},
   "outputs": [],
   "source": [
    "A*X-B"
   ]
  },
  {
   "cell_type": "markdown",
   "metadata": {},
   "source": [
    "Otra forma de que resuelva es usando \\, te dejo que la explores."
   ]
  },
  {
   "cell_type": "code",
   "execution_count": null,
   "metadata": {},
   "outputs": [],
   "source": [
    "A\\B"
   ]
  },
  {
   "cell_type": "markdown",
   "metadata": {},
   "source": [
    "En lo anterior, B que es el vector de términos independientes, lo escribimos como matriz. Pero SAGE también lo interpreta si b es un vector:   "
   ]
  },
  {
   "cell_type": "code",
   "execution_count": null,
   "metadata": {},
   "outputs": [],
   "source": [
    "b = vector([1,4,0, 0])\n",
    "b"
   ]
  },
  {
   "cell_type": "code",
   "execution_count": null,
   "metadata": {},
   "outputs": [],
   "source": [
    "X = A.solve_right(b)\n",
    "X"
   ]
  },
  {
   "cell_type": "code",
   "execution_count": null,
   "metadata": {},
   "outputs": [],
   "source": [
    "A*X-b"
   ]
  },
  {
   "cell_type": "markdown",
   "metadata": {},
   "source": [
    "Y claramente interpreta tanto A*x como A*x-b como vectores."
   ]
  },
  {
   "cell_type": "markdown",
   "metadata": {},
   "source": [
    "En los casos anteriores existía solución. Veamos qué pasa si no existe:"
   ]
  },
  {
   "cell_type": "code",
   "execution_count": null,
   "metadata": {},
   "outputs": [],
   "source": [
    "A = matrix([[1,4,6],[3,6,0],[0,-3,8],[1,-2,0]])\n",
    "A"
   ]
  },
  {
   "cell_type": "code",
   "execution_count": null,
   "metadata": {},
   "outputs": [],
   "source": [
    "B = matrix([[1],[4],[0],[0]])\n",
    "B"
   ]
  },
  {
   "cell_type": "code",
   "execution_count": null,
   "metadata": {
    "scrolled": true
   },
   "outputs": [],
   "source": [
    "X = A.solve_right(B)\n",
    "X"
   ]
  },
  {
   "cell_type": "markdown",
   "metadata": {},
   "source": [
    "Si miramos el error, dice \"matrix equation has no solutions\". De errores no hablé mucho, en general te sugiero que vayas al final y te fijes qué dice como \"ValueError\" y mires en los números de línea que te marca a la izquierda con una flechita \"-->\", que es donde saltó el error."
   ]
  },
  {
   "cell_type": "markdown",
   "metadata": {},
   "source": [
    "Finalmente veamos qué pasa en un caso con infinitas soluciones."
   ]
  },
  {
   "cell_type": "code",
   "execution_count": null,
   "metadata": {},
   "outputs": [],
   "source": [
    "A = matrix([[1,4,6,-1,6],[3,6,0,8,1],[0,-3,8,1,0],[1,-2,0,0,1]])\n",
    "A"
   ]
  },
  {
   "cell_type": "code",
   "execution_count": null,
   "metadata": {},
   "outputs": [],
   "source": [
    "b = vector([0,0,0,0])"
   ]
  },
  {
   "cell_type": "code",
   "execution_count": null,
   "metadata": {},
   "outputs": [],
   "source": [
    "X = A.solve_right(b)\n",
    "X"
   ]
  },
  {
   "cell_type": "code",
   "execution_count": null,
   "metadata": {},
   "outputs": [],
   "source": [
    "B = matrix([[1],[4],[0],[0]])\n",
    "B"
   ]
  },
  {
   "cell_type": "code",
   "execution_count": null,
   "metadata": {},
   "outputs": [],
   "source": [
    "X = A.solve_right(B)\n",
    "X"
   ]
  },
  {
   "cell_type": "markdown",
   "metadata": {},
   "source": [
    "O sea, nos da una solución, pero NO resuelve completamente el sistema.\n",
    "Así que esta forma no es tan útil.\n",
    "Exploremos un toque más a ver si podemos hacer algo mejor. Voy a jugar un poquito."
   ]
  },
  {
   "cell_type": "code",
   "execution_count": null,
   "metadata": {},
   "outputs": [],
   "source": [
    "A.echelon_form()"
   ]
  },
  {
   "cell_type": "markdown",
   "metadata": {},
   "source": [
    "De aquí, podemos ver que hay infinitas soluciones, siendo A la matriz asociada al sistema (no la ampliada)."
   ]
  },
  {
   "cell_type": "markdown",
   "metadata": {},
   "source": [
    "Voy a ver si encuentro alguna forma linda de escribir cosas antes de ir a las matrices asociadas a las operaciones elementales por fila."
   ]
  },
  {
   "cell_type": "code",
   "execution_count": null,
   "metadata": {},
   "outputs": [],
   "source": [
    "A=matrix([[2,0,1],[3/2,0,3/2]])\n",
    "A"
   ]
  },
  {
   "cell_type": "code",
   "execution_count": null,
   "metadata": {},
   "outputs": [],
   "source": [
    "X=vector([x,y,z])\n",
    "X"
   ]
  },
  {
   "cell_type": "code",
   "execution_count": null,
   "metadata": {},
   "outputs": [],
   "source": [
    "A*X"
   ]
  },
  {
   "cell_type": "code",
   "execution_count": null,
   "metadata": {},
   "outputs": [],
   "source": [
    "b=vector([1,0]); b"
   ]
  },
  {
   "cell_type": "code",
   "execution_count": null,
   "metadata": {},
   "outputs": [],
   "source": [
    "X0 = A.solve_right(b)\n",
    "X0"
   ]
  },
  {
   "cell_type": "code",
   "execution_count": null,
   "metadata": {},
   "outputs": [],
   "source": [
    "A*X0 == b"
   ]
  },
  {
   "cell_type": "markdown",
   "metadata": {},
   "source": [
    "Bueno, nada muy bueno, capaz esto último sirve para chequear si algo es solución.\n",
    "\n",
    "Vamos a ver ahora el tema de las matrices elementales. RECORDAR que los índices de las filas y las columnas EMPIEZAN DESDE 0."
   ]
  },
  {
   "cell_type": "code",
   "execution_count": null,
   "metadata": {},
   "outputs": [],
   "source": [
    "A = identity_matrix(4)\n",
    "A"
   ]
  },
  {
   "cell_type": "code",
   "execution_count": null,
   "metadata": {},
   "outputs": [],
   "source": [
    "A.add_multiple_of_row(0, 3, 100)\n",
    "A"
   ]
  },
  {
   "cell_type": "code",
   "execution_count": null,
   "metadata": {},
   "outputs": [],
   "source": [
    "A = identity_matrix(4)\n",
    "A"
   ]
  },
  {
   "cell_type": "code",
   "execution_count": null,
   "metadata": {},
   "outputs": [],
   "source": [
    "A.add_multiple_of_row(1,2,4)\n",
    "A"
   ]
  },
  {
   "cell_type": "markdown",
   "metadata": {},
   "source": [
    "O sea, el comando .add_multiple_of_row(a,b,c) hace lo siguiente: a la matriz A la reemplaza por la matriz que es igual a A salvo la fila a, donde aparece la fila a más c veces la fila b. Vale decir, es la operación de eliminación. Observar que a y b son números entre 0 y la cantidad de filas de la matriz, y c es un número cualquiera.\n"
   ]
  },
  {
   "cell_type": "code",
   "execution_count": null,
   "metadata": {},
   "outputs": [],
   "source": [
    "A = identity_matrix(4)\n",
    "A"
   ]
  },
  {
   "cell_type": "code",
   "execution_count": null,
   "metadata": {},
   "outputs": [],
   "source": [
    "A.swap_rows(1,2)\n",
    "A"
   ]
  },
  {
   "cell_type": "markdown",
   "metadata": {},
   "source": [
    "O sea, este (que ya habíamos visto en el lab anterior) era la operación de intercambio de columnas. Faltaría ver la de escalamiento."
   ]
  },
  {
   "cell_type": "code",
   "execution_count": null,
   "metadata": {},
   "outputs": [],
   "source": [
    "A = identity_matrix(4)\n",
    "A"
   ]
  },
  {
   "cell_type": "code",
   "execution_count": null,
   "metadata": {},
   "outputs": [],
   "source": [
    "A.rescale_row(0,4)\n",
    "A"
   ]
  },
  {
   "cell_type": "markdown",
   "metadata": {},
   "source": [
    "Ya estamos listxs para partir de una matriz (ampliada) asociada a un sistema de ecuaciones lineales y efectuar todos los cálculos necesarios para llevarla a su forma de escalón reducida."
   ]
  },
  {
   "cell_type": "markdown",
   "metadata": {},
   "source": [
    "## 4.2 Ejercicios\n",
    "\n",
    "1) Ingrese la matriz \n",
    "\n",
    "A = matrix(ZZ,4,5,[4,4,0,2,4,5,1,6,5,4,1,1,0,1,0,5,1,6,6,2])\n",
    "\n",
    "y resuelva de dos formas diferentes la ecuación $A*x = (37 , 13, 36, 39, 20)^t$.\n",
    "\n",
    "2) Ingrese la matriz\n",
    "\n",
    "A = matrix(ZZ, 4, 6, [2,1,2,2,2,-1,1,2,-1,2,1,-1,2,1,-1,-1,2,2,2,1,1,-1,-1,-1])\n",
    "\n",
    "y mediante operaciones por fila obtenga una matriz equivalente por filas.\n"
   ]
  },
  {
   "cell_type": "markdown",
   "metadata": {},
   "source": [
    "## 4.3 Resolviendo otras ecuaciones\n",
    "\n",
    "Usamos solve igual que como lo usamos para las lineales."
   ]
  },
  {
   "cell_type": "code",
   "execution_count": 1,
   "metadata": {},
   "outputs": [
    {
     "data": {
      "text/plain": [
       "[x == -I, x == I]"
      ]
     },
     "execution_count": 1,
     "metadata": {},
     "output_type": "execute_result"
    }
   ],
   "source": [
    "solve( x^2 + 1 == 0 , x)"
   ]
  },
  {
   "cell_type": "code",
   "execution_count": 7,
   "metadata": {},
   "outputs": [
    {
     "data": {
      "text/plain": [
       "[x == 5, x == 6, x == 4, x == 2, x == 3, x == 1]"
      ]
     },
     "execution_count": 7,
     "metadata": {},
     "output_type": "execute_result"
    }
   ],
   "source": [
    "solve( x^6 - 21*x^5 + 175*x^4 - 735*x^3 + 1624*x^2 - 1764*x + 720 == 0, x)"
   ]
  },
  {
   "cell_type": "code",
   "execution_count": 31,
   "metadata": {},
   "outputs": [
    {
     "data": {
      "text/plain": [
       "[x == (1/2*I + 1/2)*sqrt(2)*(-1)^(1/8), x == I*(-1)^(1/8), x == (1/2*I - 1/2)*sqrt(2)*(-1)^(1/8), x == -(-1)^(1/8), x == -(1/2*I + 1/2)*sqrt(2)*(-1)^(1/8), x == -I*(-1)^(1/8), x == -(1/2*I - 1/2)*sqrt(2)*(-1)^(1/8), x == (-1)^(1/8)]"
      ]
     },
     "execution_count": 31,
     "metadata": {},
     "output_type": "execute_result"
    }
   ],
   "source": [
    "solve( x^8 + 1 == 0, x)"
   ]
  },
  {
   "cell_type": "markdown",
   "metadata": {},
   "source": [
    "Veamos las fórmulas de Cardano  y de paso veamos una forma más accesible para las soluciones:"
   ]
  },
  {
   "cell_type": "code",
   "execution_count": 36,
   "metadata": {},
   "outputs": [],
   "source": [
    "b = var(\"b\")\n",
    "c = var(\"c\")\n",
    "cardano = solve(x^3 + b*x + c==0, x)"
   ]
  },
  {
   "cell_type": "markdown",
   "metadata": {},
   "source": [
    "Pusimos a $b$ y $c$ como variables, pero le pedimos que resuelva respecto de $x$. Así lo resuelve *simbólicamente*, si no, no interpreta qué son $b$ y $c$ y da error."
   ]
  },
  {
   "cell_type": "code",
   "execution_count": 46,
   "metadata": {},
   "outputs": [
    {
     "data": {
      "text/html": [
       "<html><script type=\"math/tex; mode=display\">\\newcommand{\\Bold}[1]{\\mathbf{#1}}\\verb|<class|\\phantom{\\verb!x!}\\verb|'sage.structure.sequence.Sequence_generic'>|</script></html>"
      ],
      "text/latex": [
       "$$\\newcommand{\\Bold}[1]{\\mathbf{#1}}\\verb|<class|\\phantom{\\verb!x!}\\verb|'sage.structure.sequence.Sequence_generic'>|$$"
      ],
      "text/plain": [
       "<class 'sage.structure.sequence.Sequence_generic'>"
      ]
     },
     "execution_count": 46,
     "metadata": {},
     "output_type": "execute_result"
    }
   ],
   "source": [
    "type(cardano)"
   ]
  },
  {
   "cell_type": "markdown",
   "metadata": {},
   "source": [
    "No parece pero *es como* una lista:"
   ]
  },
  {
   "cell_type": "code",
   "execution_count": 47,
   "metadata": {},
   "outputs": [
    {
     "data": {
      "text/html": [
       "<html><script type=\"math/tex; mode=display\">\\newcommand{\\Bold}[1]{\\mathbf{#1}}3</script></html>"
      ],
      "text/latex": [
       "$$\\newcommand{\\Bold}[1]{\\mathbf{#1}}3$$"
      ],
      "text/plain": [
       "3"
      ]
     },
     "execution_count": 47,
     "metadata": {},
     "output_type": "execute_result"
    }
   ],
   "source": [
    "len(cardano)"
   ]
  },
  {
   "cell_type": "code",
   "execution_count": 48,
   "metadata": {},
   "outputs": [
    {
     "data": {
      "text/html": [
       "<html><script type=\"math/tex; mode=display\">\\newcommand{\\Bold}[1]{\\mathbf{#1}}x = \\frac{b {\\left(-i \\, \\sqrt{3} + 1\\right)}}{6 \\, {\\left(-\\frac{1}{2} \\, c + \\frac{1}{6} \\, \\sqrt{\\frac{4}{3} \\, b^{3} + 9 \\, c^{2}}\\right)}^{\\frac{1}{3}}} - \\frac{1}{2} \\, {\\left(-\\frac{1}{2} \\, c + \\frac{1}{6} \\, \\sqrt{\\frac{4}{3} \\, b^{3} + 9 \\, c^{2}}\\right)}^{\\frac{1}{3}} {\\left(i \\, \\sqrt{3} + 1\\right)}</script></html>"
      ],
      "text/latex": [
       "$$\\newcommand{\\Bold}[1]{\\mathbf{#1}}x = \\frac{b {\\left(-i \\, \\sqrt{3} + 1\\right)}}{6 \\, {\\left(-\\frac{1}{2} \\, c + \\frac{1}{6} \\, \\sqrt{\\frac{4}{3} \\, b^{3} + 9 \\, c^{2}}\\right)}^{\\frac{1}{3}}} - \\frac{1}{2} \\, {\\left(-\\frac{1}{2} \\, c + \\frac{1}{6} \\, \\sqrt{\\frac{4}{3} \\, b^{3} + 9 \\, c^{2}}\\right)}^{\\frac{1}{3}} {\\left(i \\, \\sqrt{3} + 1\\right)}$$"
      ],
      "text/plain": [
       "x == 1/6*b*(-I*sqrt(3) + 1)/(-1/2*c + 1/6*sqrt(4/3*b^3 + 9*c^2))^(1/3) - 1/2*(-1/2*c + 1/6*sqrt(4/3*b^3 + 9*c^2))^(1/3)*(I*sqrt(3) + 1)"
      ]
     },
     "execution_count": 48,
     "metadata": {},
     "output_type": "execute_result"
    }
   ],
   "source": [
    "cardano[0]"
   ]
  },
  {
   "cell_type": "code",
   "execution_count": 44,
   "metadata": {},
   "outputs": [
    {
     "data": {
      "text/html": [
       "<html><script type=\"math/tex; mode=display\">\\newcommand{\\Bold}[1]{\\mathbf{#1}}x = \\frac{b {\\left(i \\, \\sqrt{3} + 1\\right)}}{6 \\, {\\left(-\\frac{1}{2} \\, c + \\frac{1}{6} \\, \\sqrt{\\frac{4}{3} \\, b^{3} + 9 \\, c^{2}}\\right)}^{\\frac{1}{3}}} - \\frac{1}{2} \\, {\\left(-\\frac{1}{2} \\, c + \\frac{1}{6} \\, \\sqrt{\\frac{4}{3} \\, b^{3} + 9 \\, c^{2}}\\right)}^{\\frac{1}{3}} {\\left(-i \\, \\sqrt{3} + 1\\right)}</script></html>"
      ],
      "text/latex": [
       "$$\\newcommand{\\Bold}[1]{\\mathbf{#1}}x = \\frac{b {\\left(i \\, \\sqrt{3} + 1\\right)}}{6 \\, {\\left(-\\frac{1}{2} \\, c + \\frac{1}{6} \\, \\sqrt{\\frac{4}{3} \\, b^{3} + 9 \\, c^{2}}\\right)}^{\\frac{1}{3}}} - \\frac{1}{2} \\, {\\left(-\\frac{1}{2} \\, c + \\frac{1}{6} \\, \\sqrt{\\frac{4}{3} \\, b^{3} + 9 \\, c^{2}}\\right)}^{\\frac{1}{3}} {\\left(-i \\, \\sqrt{3} + 1\\right)}$$"
      ],
      "text/plain": [
       "x == 1/6*b*(I*sqrt(3) + 1)/(-1/2*c + 1/6*sqrt(4/3*b^3 + 9*c^2))^(1/3) - 1/2*(-1/2*c + 1/6*sqrt(4/3*b^3 + 9*c^2))^(1/3)*(-I*sqrt(3) + 1)"
      ]
     },
     "execution_count": 44,
     "metadata": {},
     "output_type": "execute_result"
    }
   ],
   "source": [
    "cardano[1]"
   ]
  },
  {
   "cell_type": "code",
   "execution_count": 43,
   "metadata": {},
   "outputs": [
    {
     "data": {
      "text/html": [
       "<html><script type=\"math/tex; mode=display\">\\newcommand{\\Bold}[1]{\\mathbf{#1}}x = -\\frac{b}{3 \\, {\\left(-\\frac{1}{2} \\, c + \\frac{1}{6} \\, \\sqrt{\\frac{4}{3} \\, b^{3} + 9 \\, c^{2}}\\right)}^{\\frac{1}{3}}} + {\\left(-\\frac{1}{2} \\, c + \\frac{1}{6} \\, \\sqrt{\\frac{4}{3} \\, b^{3} + 9 \\, c^{2}}\\right)}^{\\frac{1}{3}}</script></html>"
      ],
      "text/latex": [
       "$$\\newcommand{\\Bold}[1]{\\mathbf{#1}}x = -\\frac{b}{3 \\, {\\left(-\\frac{1}{2} \\, c + \\frac{1}{6} \\, \\sqrt{\\frac{4}{3} \\, b^{3} + 9 \\, c^{2}}\\right)}^{\\frac{1}{3}}} + {\\left(-\\frac{1}{2} \\, c + \\frac{1}{6} \\, \\sqrt{\\frac{4}{3} \\, b^{3} + 9 \\, c^{2}}\\right)}^{\\frac{1}{3}}$$"
      ],
      "text/plain": [
       "x == -1/3*b/(-1/2*c + 1/6*sqrt(4/3*b^3 + 9*c^2))^(1/3) + (-1/2*c + 1/6*sqrt(4/3*b^3 + 9*c^2))^(1/3)"
      ]
     },
     "execution_count": 43,
     "metadata": {},
     "output_type": "execute_result"
    }
   ],
   "source": [
    "cardano[2]"
   ]
  },
  {
   "cell_type": "markdown",
   "metadata": {},
   "source": [
    "Las polinomiales complejas también las resuelve. Hagamos un sistema polinomial en varias variables."
   ]
  },
  {
   "cell_type": "code",
   "execution_count": 49,
   "metadata": {},
   "outputs": [],
   "source": [
    "var('p q y')\n",
    "eq1 = p+q == 9\n",
    "eq2 = q*y + p*x == -6\n",
    "eq3 = q*y^2 + p*x^2 == 24\n",
    "eq4 = p == 1\n",
    "answer=solve( [eq1, eq2, eq3, eq4 ], p, q, x, y )"
   ]
  },
  {
   "cell_type": "code",
   "execution_count": 50,
   "metadata": {},
   "outputs": [
    {
     "data": {
      "text/html": [
       "<html><script type=\"math/tex; mode=display\">\\newcommand{\\Bold}[1]{\\mathbf{#1}}2</script></html>"
      ],
      "text/latex": [
       "$$\\newcommand{\\Bold}[1]{\\mathbf{#1}}2$$"
      ],
      "text/plain": [
       "2"
      ]
     },
     "execution_count": 50,
     "metadata": {},
     "output_type": "execute_result"
    }
   ],
   "source": [
    "len(answer)"
   ]
  },
  {
   "cell_type": "code",
   "execution_count": 51,
   "metadata": {},
   "outputs": [
    {
     "data": {
      "text/html": [
       "<html><script type=\"math/tex; mode=display\">\\newcommand{\\Bold}[1]{\\mathbf{#1}}\\left[p = 1, q = 8, x = -\\frac{4}{3} \\, \\sqrt{10} - \\frac{2}{3}, y = \\frac{1}{6} \\, \\sqrt{10} - \\frac{2}{3}\\right]</script></html>"
      ],
      "text/latex": [
       "$$\\newcommand{\\Bold}[1]{\\mathbf{#1}}\\left[p = 1, q = 8, x = -\\frac{4}{3} \\, \\sqrt{10} - \\frac{2}{3}, y = \\frac{1}{6} \\, \\sqrt{10} - \\frac{2}{3}\\right]$$"
      ],
      "text/plain": [
       "[p == 1, q == 8, x == -4/3*sqrt(10) - 2/3, y == 1/6*sqrt(10) - 2/3]"
      ]
     },
     "execution_count": 51,
     "metadata": {},
     "output_type": "execute_result"
    }
   ],
   "source": [
    "answer[0]"
   ]
  },
  {
   "cell_type": "code",
   "execution_count": 52,
   "metadata": {},
   "outputs": [
    {
     "data": {
      "text/html": [
       "<html><script type=\"math/tex; mode=display\">\\newcommand{\\Bold}[1]{\\mathbf{#1}}\\left[p = 1, q = 8, x = \\frac{4}{3} \\, \\sqrt{10} - \\frac{2}{3}, y = -\\frac{1}{6} \\, \\sqrt{10} - \\frac{2}{3}\\right]</script></html>"
      ],
      "text/latex": [
       "$$\\newcommand{\\Bold}[1]{\\mathbf{#1}}\\left[p = 1, q = 8, x = \\frac{4}{3} \\, \\sqrt{10} - \\frac{2}{3}, y = -\\frac{1}{6} \\, \\sqrt{10} - \\frac{2}{3}\\right]$$"
      ],
      "text/plain": [
       "[p == 1, q == 8, x == 4/3*sqrt(10) - 2/3, y == -1/6*sqrt(10) - 2/3]"
      ]
     },
     "execution_count": 52,
     "metadata": {},
     "output_type": "execute_result"
    }
   ],
   "source": [
    "answer[1]"
   ]
  },
  {
   "cell_type": "markdown",
   "metadata": {},
   "source": [
    "Veamos otras no polinomiales."
   ]
  },
  {
   "cell_type": "code",
   "execution_count": 24,
   "metadata": {},
   "outputs": [
    {
     "data": {
      "text/plain": [
       "[x == -e^(5/6), x == e^(5/6)]"
      ]
     },
     "execution_count": 24,
     "metadata": {},
     "output_type": "execute_result"
    }
   ],
   "source": [
    "solve( log( x^2 ) == 5/3, x )"
   ]
  },
  {
   "cell_type": "code",
   "execution_count": 25,
   "metadata": {},
   "outputs": [
    {
     "data": {
      "text/plain": [
       "[x == pi]"
      ]
     },
     "execution_count": 25,
     "metadata": {},
     "output_type": "execute_result"
    }
   ],
   "source": [
    "solve( cos(x)+1 == 0, x)"
   ]
  },
  {
   "cell_type": "markdown",
   "metadata": {},
   "source": [
    "Evidentemente la función coseno la considera en un cierto rango. Luego veremos si podemos mejorarla."
   ]
  },
  {
   "cell_type": "markdown",
   "metadata": {},
   "source": [
    "Veamos ahora una cualquiera."
   ]
  },
  {
   "cell_type": "code",
   "execution_count": 22,
   "metadata": {},
   "outputs": [
    {
     "data": {
      "text/plain": [
       "[0 == 3*x^8 + 15*x^5 - 17*x^4 + 35*x^3 + 14*x^2 + x + 20]"
      ]
     },
     "execution_count": 22,
     "metadata": {},
     "output_type": "execute_result"
    }
   ],
   "source": [
    "solve( 3*x^8 + 15*x^5 - 17*x^4 + 35*x^3 + 14*x^2 + x + 20 == 0, x)"
   ]
  },
  {
   "cell_type": "markdown",
   "metadata": {},
   "source": [
    "Esta no la resolvió. Intentemos otra forma: a ver si Sage puede hallar las raíces de funciones."
   ]
  },
  {
   "cell_type": "code",
   "execution_count": 55,
   "metadata": {},
   "outputs": [
    {
     "data": {
      "text/html": [
       "<html><script type=\"math/tex; mode=display\">\\newcommand{\\Bold}[1]{\\mathbf{#1}}-0.7891117924918968</script></html>"
      ],
      "text/latex": [
       "$$\\newcommand{\\Bold}[1]{\\mathbf{#1}}-0.7891117924918968$$"
      ],
      "text/plain": [
       "-0.7891117924918968"
      ]
     },
     "execution_count": 55,
     "metadata": {},
     "output_type": "execute_result"
    }
   ],
   "source": [
    "f(x) = 3*x^8 + 15*x^5 - 17*x^4 + 35*x^3 + 14*x^2 + x + 20\n",
    "find_root(f, -1,1)"
   ]
  },
  {
   "cell_type": "markdown",
   "metadata": {},
   "source": [
    "Tuvimos suerte: la función $f$ tenía una *raíz* o un *cero* en el intervalo (-1,1)."
   ]
  },
  {
   "cell_type": "code",
   "execution_count": 57,
   "metadata": {},
   "outputs": [
    {
     "ename": "RuntimeError",
     "evalue": "f appears to have no zero on the interval",
     "output_type": "error",
     "traceback": [
      "\u001b[0;31m---------------------------------------------------------------------------\u001b[0m",
      "\u001b[0;31mRuntimeError\u001b[0m                              Traceback (most recent call last)",
      "\u001b[0;32m<ipython-input-57-0d1ffb902d38>\u001b[0m in \u001b[0;36m<module>\u001b[0;34m\u001b[0m\n\u001b[0;32m----> 1\u001b[0;31m \u001b[0mfind_root\u001b[0m\u001b[0;34m(\u001b[0m\u001b[0mx\u001b[0m\u001b[0;34m**\u001b[0m\u001b[0mInteger\u001b[0m\u001b[0;34m(\u001b[0m\u001b[0;36m5\u001b[0m\u001b[0;34m)\u001b[0m\u001b[0;34m+\u001b[0m\u001b[0mx\u001b[0m\u001b[0;34m**\u001b[0m\u001b[0mInteger\u001b[0m\u001b[0;34m(\u001b[0m\u001b[0;36m4\u001b[0m\u001b[0;34m)\u001b[0m\u001b[0;34m+\u001b[0m\u001b[0mx\u001b[0m\u001b[0;34m**\u001b[0m\u001b[0mInteger\u001b[0m\u001b[0;34m(\u001b[0m\u001b[0;36m3\u001b[0m\u001b[0;34m)\u001b[0m\u001b[0;34m-\u001b[0m\u001b[0mx\u001b[0m\u001b[0;34m**\u001b[0m\u001b[0mInteger\u001b[0m\u001b[0;34m(\u001b[0m\u001b[0;36m2\u001b[0m\u001b[0;34m)\u001b[0m\u001b[0;34m+\u001b[0m\u001b[0mx\u001b[0m\u001b[0;34m-\u001b[0m\u001b[0mInteger\u001b[0m\u001b[0;34m(\u001b[0m\u001b[0;36m1\u001b[0m\u001b[0;34m)\u001b[0m\u001b[0;34m,\u001b[0m\u001b[0;34m-\u001b[0m\u001b[0mInteger\u001b[0m\u001b[0;34m(\u001b[0m\u001b[0;36m1\u001b[0m\u001b[0;34m)\u001b[0m\u001b[0;34m,\u001b[0m\u001b[0mInteger\u001b[0m\u001b[0;34m(\u001b[0m\u001b[0;36m0\u001b[0m\u001b[0;34m)\u001b[0m\u001b[0;34m)\u001b[0m\u001b[0;34m\u001b[0m\u001b[0;34m\u001b[0m\u001b[0m\n\u001b[0m",
      "\u001b[0;32m/opt/sagemath-9.3/local/lib/python3.7/site-packages/sage/misc/lazy_import.pyx\u001b[0m in \u001b[0;36msage.misc.lazy_import.LazyImport.__call__ (build/cythonized/sage/misc/lazy_import.c:4032)\u001b[0;34m()\u001b[0m\n\u001b[1;32m    358\u001b[0m             \u001b[0;32mTrue\u001b[0m\u001b[0;34m\u001b[0m\u001b[0;34m\u001b[0m\u001b[0m\n\u001b[1;32m    359\u001b[0m         \"\"\"\n\u001b[0;32m--> 360\u001b[0;31m         \u001b[0;32mreturn\u001b[0m \u001b[0mself\u001b[0m\u001b[0;34m.\u001b[0m\u001b[0mget_object\u001b[0m\u001b[0;34m(\u001b[0m\u001b[0;34m)\u001b[0m\u001b[0;34m(\u001b[0m\u001b[0;34m*\u001b[0m\u001b[0margs\u001b[0m\u001b[0;34m,\u001b[0m \u001b[0;34m**\u001b[0m\u001b[0mkwds\u001b[0m\u001b[0;34m)\u001b[0m\u001b[0;34m\u001b[0m\u001b[0;34m\u001b[0m\u001b[0m\n\u001b[0m\u001b[1;32m    361\u001b[0m \u001b[0;34m\u001b[0m\u001b[0m\n\u001b[1;32m    362\u001b[0m     \u001b[0;32mdef\u001b[0m \u001b[0m__repr__\u001b[0m\u001b[0;34m(\u001b[0m\u001b[0mself\u001b[0m\u001b[0;34m)\u001b[0m\u001b[0;34m:\u001b[0m\u001b[0;34m\u001b[0m\u001b[0;34m\u001b[0m\u001b[0m\n",
      "\u001b[0;32m/opt/sagemath-9.3/local/lib/python3.7/site-packages/sage/numerical/optimize.py\u001b[0m in \u001b[0;36mfind_root\u001b[0;34m(f, a, b, xtol, rtol, maxiter, full_output)\u001b[0m\n\u001b[1;32m    103\u001b[0m     \"\"\"\n\u001b[1;32m    104\u001b[0m     \u001b[0;32mtry\u001b[0m\u001b[0;34m:\u001b[0m\u001b[0;34m\u001b[0m\u001b[0;34m\u001b[0m\u001b[0m\n\u001b[0;32m--> 105\u001b[0;31m         \u001b[0;32mreturn\u001b[0m \u001b[0mf\u001b[0m\u001b[0;34m.\u001b[0m\u001b[0mfind_root\u001b[0m\u001b[0;34m(\u001b[0m\u001b[0ma\u001b[0m\u001b[0;34m=\u001b[0m\u001b[0ma\u001b[0m\u001b[0;34m,\u001b[0m\u001b[0mb\u001b[0m\u001b[0;34m=\u001b[0m\u001b[0mb\u001b[0m\u001b[0;34m,\u001b[0m\u001b[0mxtol\u001b[0m\u001b[0;34m=\u001b[0m\u001b[0mxtol\u001b[0m\u001b[0;34m,\u001b[0m\u001b[0mrtol\u001b[0m\u001b[0;34m=\u001b[0m\u001b[0mrtol\u001b[0m\u001b[0;34m,\u001b[0m\u001b[0mmaxiter\u001b[0m\u001b[0;34m=\u001b[0m\u001b[0mmaxiter\u001b[0m\u001b[0;34m,\u001b[0m\u001b[0mfull_output\u001b[0m\u001b[0;34m=\u001b[0m\u001b[0mfull_output\u001b[0m\u001b[0;34m)\u001b[0m\u001b[0;34m\u001b[0m\u001b[0;34m\u001b[0m\u001b[0m\n\u001b[0m\u001b[1;32m    106\u001b[0m     \u001b[0;32mexcept\u001b[0m \u001b[0mAttributeError\u001b[0m\u001b[0;34m:\u001b[0m\u001b[0;34m\u001b[0m\u001b[0;34m\u001b[0m\u001b[0m\n\u001b[1;32m    107\u001b[0m         \u001b[0;32mpass\u001b[0m\u001b[0;34m\u001b[0m\u001b[0;34m\u001b[0m\u001b[0m\n",
      "\u001b[0;32m/opt/sagemath-9.3/local/lib/python3.7/site-packages/sage/symbolic/expression.pyx\u001b[0m in \u001b[0;36msage.symbolic.expression.Expression.find_root (build/cythonized/sage/symbolic/expression.cpp:64119)\u001b[0;34m()\u001b[0m\n\u001b[1;32m  12059\u001b[0m         \u001b[0;32melif\u001b[0m \u001b[0mself\u001b[0m\u001b[0;34m.\u001b[0m\u001b[0mnumber_of_arguments\u001b[0m\u001b[0;34m(\u001b[0m\u001b[0;34m)\u001b[0m \u001b[0;34m==\u001b[0m \u001b[0;36m1\u001b[0m\u001b[0;34m:\u001b[0m\u001b[0;34m\u001b[0m\u001b[0;34m\u001b[0m\u001b[0m\n\u001b[1;32m  12060\u001b[0m             \u001b[0mf\u001b[0m \u001b[0;34m=\u001b[0m \u001b[0mself\u001b[0m\u001b[0;34m.\u001b[0m\u001b[0m_fast_float_\u001b[0m\u001b[0;34m(\u001b[0m\u001b[0mself\u001b[0m\u001b[0;34m.\u001b[0m\u001b[0mdefault_variable\u001b[0m\u001b[0;34m(\u001b[0m\u001b[0;34m)\u001b[0m\u001b[0;34m)\u001b[0m\u001b[0;34m\u001b[0m\u001b[0;34m\u001b[0m\u001b[0m\n\u001b[0;32m> 12061\u001b[0;31m             return find_root(f, a=a, b=b, xtol=xtol,\n\u001b[0m\u001b[1;32m  12062\u001b[0m                              \u001b[0mrtol\u001b[0m\u001b[0;34m=\u001b[0m\u001b[0mrtol\u001b[0m\u001b[0;34m,\u001b[0m\u001b[0mmaxiter\u001b[0m\u001b[0;34m=\u001b[0m\u001b[0mmaxiter\u001b[0m\u001b[0;34m,\u001b[0m\u001b[0;34m\u001b[0m\u001b[0;34m\u001b[0m\u001b[0m\n\u001b[1;32m  12063\u001b[0m                              full_output=full_output)\n",
      "\u001b[0;32m/opt/sagemath-9.3/local/lib/python3.7/site-packages/sage/numerical/optimize.py\u001b[0m in \u001b[0;36mfind_root\u001b[0;34m(f, a, b, xtol, rtol, maxiter, full_output)\u001b[0m\n\u001b[1;32m    136\u001b[0m                 \u001b[0;32melse\u001b[0m\u001b[0;34m:\u001b[0m\u001b[0;34m\u001b[0m\u001b[0;34m\u001b[0m\u001b[0m\n\u001b[1;32m    137\u001b[0m                     \u001b[0;32mreturn\u001b[0m \u001b[0ms\u001b[0m\u001b[0;34m\u001b[0m\u001b[0;34m\u001b[0m\u001b[0m\n\u001b[0;32m--> 138\u001b[0;31m             \u001b[0;32mraise\u001b[0m \u001b[0mRuntimeError\u001b[0m\u001b[0;34m(\u001b[0m\u001b[0;34m\"f appears to have no zero on the interval\"\u001b[0m\u001b[0;34m)\u001b[0m\u001b[0;34m\u001b[0m\u001b[0;34m\u001b[0m\u001b[0m\n\u001b[0m\u001b[1;32m    139\u001b[0m         \u001b[0ma\u001b[0m \u001b[0;34m=\u001b[0m \u001b[0ms\u001b[0m\u001b[0;34m\u001b[0m\u001b[0;34m\u001b[0m\u001b[0m\n\u001b[1;32m    140\u001b[0m \u001b[0;34m\u001b[0m\u001b[0m\n",
      "\u001b[0;31mRuntimeError\u001b[0m: f appears to have no zero on the interval"
     ]
    }
   ],
   "source": [
    "find_root(x^5+x^4+x^3-x^2+x-1,-1,0)"
   ]
  },
  {
   "cell_type": "markdown",
   "metadata": {},
   "source": [
    "Esta dio que no tenía cero en el intervalo $(-1,0)$.\n",
    "\n",
    "En el próximo ejemplo vemos que no ingresamos una función, sino una ecuación."
   ]
  },
  {
   "cell_type": "code",
   "execution_count": 58,
   "metadata": {},
   "outputs": [
    {
     "data": {
      "text/html": [
       "<html><script type=\"math/tex; mode=display\">\\newcommand{\\Bold}[1]{\\mathbf{#1}}2.1293724827601563</script></html>"
      ],
      "text/latex": [
       "$$\\newcommand{\\Bold}[1]{\\mathbf{#1}}2.1293724827601563$$"
      ],
      "text/plain": [
       "2.1293724827601563"
      ]
     },
     "execution_count": 58,
     "metadata": {},
     "output_type": "execute_result"
    }
   ],
   "source": [
    "find_root(x^x==5, 1, 10)"
   ]
  },
  {
   "cell_type": "markdown",
   "metadata": {},
   "source": [
    "El tema es cómo tenemos una idea de por dónde van a estar los ceros. Para eso tenemos que saber un poco de matemática. Y ayudarnos con los dibujos. En la próxima notebook veremos cómo dibujar."
   ]
  },
  {
   "cell_type": "code",
   "execution_count": 60,
   "metadata": {},
   "outputs": [
    {
     "data": {
      "text/html": [
       "<html><script type=\"math/tex; mode=display\">\\newcommand{\\Bold}[1]{\\mathbf{#1}}\\left[\\left[x = \\left(-1\\right), y = 1\\right], \\left[x = 1, y = 1\\right]\\right]</script></html>"
      ],
      "text/latex": [
       "$$\\newcommand{\\Bold}[1]{\\mathbf{#1}}\\left[\\left[x = \\left(-1\\right), y = 1\\right], \\left[x = 1, y = 1\\right]\\right]$$"
      ],
      "text/plain": [
       "[[x == -1, y == 1], [x == 1, y == 1]]"
      ]
     },
     "execution_count": 60,
     "metadata": {},
     "output_type": "execute_result"
    }
   ],
   "source": [
    "y = var(\"y\")\n",
    "solve([x^2 + y == 2, x^2 - y == 0], x, y)"
   ]
  },
  {
   "cell_type": "markdown",
   "metadata": {},
   "source": [
    "Este sistema que es no lineal sí lo pudo resolver. Pero no siempre es el caso."
   ]
  },
  {
   "cell_type": "code",
   "execution_count": 62,
   "metadata": {},
   "outputs": [
    {
     "data": {
      "text/html": [
       "<html><script type=\"math/tex; mode=display\">\\newcommand{\\Bold}[1]{\\mathbf{#1}}\\left[-y + \\cos\\left(x\\right) = 0, x^{2} + y = 2\\right]</script></html>"
      ],
      "text/latex": [
       "$$\\newcommand{\\Bold}[1]{\\mathbf{#1}}\\left[-y + \\cos\\left(x\\right) = 0, x^{2} + y = 2\\right]$$"
      ],
      "text/plain": [
       "[-y + cos(x) == 0, x^2 + y == 2]"
      ]
     },
     "execution_count": 62,
     "metadata": {},
     "output_type": "execute_result"
    }
   ],
   "source": [
    "solve([x^2 + y == 2, cos(x) - y == 0], x, y)"
   ]
  },
  {
   "cell_type": "markdown",
   "metadata": {},
   "source": [
    "Vamos a pensar en otra forma de plantearla."
   ]
  },
  {
   "cell_type": "code",
   "execution_count": null,
   "metadata": {},
   "outputs": [],
   "source": []
  },
  {
   "cell_type": "markdown",
   "metadata": {},
   "source": [
    "## 4.5 Ejercicios\n",
    "\n",
    "1) De las fórmulas completas de Cardano, es decir, para la ecuación $ax^3+bx^2+cx+d=0$. Se anima con la resolvente de grado 4?\n",
    "\n"
   ]
  },
  {
   "cell_type": "markdown",
   "metadata": {},
   "source": [
    "---\n",
    "-- Mi nombre es Isolda E. Cardoso y armé la notebook esta y el tutorial completo. Año 2022.\n",
    "\n",
    "No soy experta, sólo lo hice para facilitarte un poco el camino que a mi me llevó un tiempo recorrer. Hay muchos recursos y tutoriales también, a mi me pintó escribir esto, pero sabelo que no es el único recurso disponible sobre la faz de la tierra.\n",
    "\n",
    "Soy docente investigadora en el Departamento de Matemática de la Escuela de Cs. Exactas y Naturales, de la Facultad de Cs. Exactas, Ingenieria y Agrimensura de la Universidad Nacional de Rosario, Argentina.\n",
    "\n",
    "Te dejo mi página laboral https://www.fceia.unr.edu.ar/~isolda/ y mi GitHub https://github.com/IsoldaEugenia.\n",
    "\n",
    "Sentite libre de contactarme.\n",
    "\n",
    "---"
   ]
  },
  {
   "cell_type": "code",
   "execution_count": null,
   "metadata": {},
   "outputs": [],
   "source": []
  }
 ],
 "metadata": {
  "kernelspec": {
   "display_name": "SageMath 9.3",
   "language": "sage",
   "name": "sagemath"
  },
  "language_info": {
   "codemirror_mode": {
    "name": "ipython",
    "version": 3
   },
   "file_extension": ".py",
   "mimetype": "text/x-python",
   "name": "python",
   "nbconvert_exporter": "python",
   "pygments_lexer": "ipython3",
   "version": "3.7.10"
  }
 },
 "nbformat": 4,
 "nbformat_minor": 2
}
