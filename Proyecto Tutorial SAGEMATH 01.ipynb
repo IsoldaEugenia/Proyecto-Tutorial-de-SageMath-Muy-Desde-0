{
 "cells": [
  {
   "cell_type": "markdown",
   "metadata": {},
   "source": [
    "# 0. Charla inicial\n",
    "\n",
    "Hola!\n",
    "\n",
    "La idea de este tutorial es que aprendas desde 0 a usar este software y que te puedas denfender solx cuando lo vayas a usar.\n",
    "\n",
    "SageMath es un software matemático open-source, que nuclea varios packetes de software también open-source y usa Python como lenguaje en común. Comenzó en 2005 William Stein (que ahora tiene CoCalc, https://wstein.org) tratando de, justamente, unificar un poco todos estos esfuerzos de software diferentes.\n",
    "\n",
    "Este tutorial por ahí te puede parecer demasiado fácil o por ahí te sirve que te explique hasta el punto y coma. Vos fijate. Lo bueno es que *siempre* podés editar y quedarte con lo que te interesa. Eso sí, si lo usás para algún fin que no sea personal te solicito que nombres la fuente por cortesía.\n",
    "\n",
    "Muchas cosas que aprendí y seguramente están reflejadas en estas notebooks las aprendí de los tutoriales que alguna vez compartió Travis Scrimshaw (https://tscrim.github.io/). Desde el 2010 que se dedica, entre sus otras actividades, al desarrollo de SageMath. \n",
    "\n",
    "Para estas notas también me sirvió y recomiendo fuertemente el libro de Gregory Bard http://www.people.vcu.edu/~clarson/bard-sage-for-undergraduates-2014.pdf, una de las cosas más lindas que tiene este libro son los proyectos para hacer. Te recomiendo que antes mires esta página http://www.sageforundergraduates.org. Acá te explica un poco más de qué va el libro, además tiene notebooks y cosas para descargar muuuy útiles cuando recién empezás (y hasta una versión en español!).\n",
    " \n",
    "\n",
    "## 0.1 Sobre las notebook de Jupyter y SageMath\n",
    "\n",
    "Si elegiste esta forma de usar SAGEMATH a través de una notebook de Jupyter, verás que delante tuyo aparecen distintos tipos de celdas: algunas con texto y otras con código.\n",
    "\n",
    "Las de texto se llaman \"Markdown\" y las de código se llaman \"Code\". Lo podés ver/elegir en el pequeño menú desplegable en la tercera línea del encabezado.  En ese menú quizás te aparezca también Raw, Python, o vaya a saber qué otra cosa.\n",
    "\n",
    "Estudiemos un poco el encabezado, deberíamos amigarnos con él. En la primera línea del encabezado de la notebook aparecen:\n",
    "\n",
    "1. el logo, el nombre del archivo y otros datos que por ahora no daremos mucha importancia;\n",
    "2. los sospechosos de siempre: archivo, edición, vista, etc. Atención a Cell y Kernel, esos seguro nos van a ser de utilidad. Y nuestro gran amigo Help, no lo olvidemos;\n",
    "3. dibujitos de botoncitos con cositas que se usan a menudo, acá está el menú desplegable que hablamos antes.\n",
    "\n",
    "Después ya empieza la notebook en si misma. La notebook consta de una sucesión de celdas, que al ejecutarlas correrán de acuerdo a su naturaleza.\n",
    "- Si son Markdown, el intérprete la lee como texto tipo Markdown, es decir, igual que cuando ponemos la negrita en los mensajes de whatsapp: con dos asterisquitos, un asterisquito para itálica, etc.\n",
    "- Si es código, el intérprete lo corre según el kernel que esté usando. En nuestro caso, sería SageMath, más específicamente esta notebook está confeccionada en SageMath 9.3.\n",
    "\n",
    "Cuando recorrés la notebook en realidad recorrés las celdas. Vas a ver que las marca con un recuadro más gordito a la izquierda de color azul o verde. Azul significa sólo que estás parado en la celda, verde significa editando.\n",
    "\n",
    "Te voy a ir tirando los shortcuts del teclado, por si no sos de andar con el mouse clickeando:\n",
    "- Si estás sobre una celda en color azul y apretás Enter, se poner verde y la podés editar.\n",
    "- Si estás sobre una celda en color verde y apretás Shift + Enter, se ejecuta la celda de acuerdo a su naturaleza y luego pasa a la de abajo en color azul.\n",
    "\n",
    "### 0.1.1 Probemos!\n",
    "\n",
    "Si abriste y no tocaste nada, esta celda está en color azul.\n",
    "\n",
    "Apretá enter, vas a ver que cambia la forma en la que se ve el texto, y el recuadro se torna verde.\n",
    "\n",
    "Si jugás un rato podés editar. Por ejemplo, intentá corregir el siguiente error: \"Hoals\".\n",
    "\n",
    "Luego, apretá Shift+Enter y se ejecuta la celda, en este caso significa que se va a ver bello como antes y vas a pasar a la celda de abajo.\n",
    "\n",
    "Si la está en azul y apretás Shift+Enter también se ejecuta y pasa a la siguiente en azul."
   ]
  },
  {
   "cell_type": "markdown",
   "metadata": {},
   "source": [
    "## 0.1 Sigamos!\n",
    "\n",
    "Acá también es, justo, una celda de tipo Markdow, porque te voy a seguir diciendo cosas.\n",
    "\n",
    "La siguiente celda es una celda de tipo código que podés ejecutar, si querés, o no. Sirve para decirle al intérprete que te muestre los outputs como en LaTex. Justo esta empieza con un \"%\", que lo vas a usar muuuuy pocas veces. Es para llamar a los *comandos mágicos*. Si vuelve a aparecer algo así charlamos al respecto, si no, dejémoslo ser.\n",
    "\n",
    "Ah, estando en Markdown para escribir alguna belleza matemática en LaTex, escribila entre dos símbolos pesos. Por ejemplo, en lo que sigue debería aparecer una integral : $ \\int f(x) dx$"
   ]
  },
  {
   "cell_type": "code",
   "execution_count": null,
   "metadata": {},
   "outputs": [],
   "source": [
    "%display latex"
   ]
  },
  {
   "cell_type": "markdown",
   "metadata": {},
   "source": [
    "La siguiente celda será código, para que no te me aburras. Correla con un Shif+Enter.\n",
    " \n",
    "Te vas a dar cuenta cuándo la está ejecutando, porque a la derecha aparece \"In\" con algo o nada entre corchetes, como formando una cajita.\n",
    "- Si aparece vacía es porque aún no fue ejecutada.\n",
    "- Si aparece un asteristo es porque se está ejecutando actualmente. Sólo se ejecuta de a una por vez.\n",
    "- Si aparece un número, es el orden consecutivo en el cual se ejecutó (podés ejecutar antes una que está mas abajo, por ejemplo), e inmediatamente debajo te aparece el output (la salida) de esa ejecución de ese trocito particular de código, que es interpretado según el kernel activo, en este caso SageMath 9.3. Te lo muestra poniendo a la derecha la palabra \"Out\" y luego los corchetitos formando una cajita, esta vez con el número correspondiente a la celda de la cual ese output es salida."
   ]
  },
  {
   "cell_type": "code",
   "execution_count": null,
   "metadata": {},
   "outputs": [],
   "source": [
    "1 + 1 "
   ]
  },
  {
   "cell_type": "markdown",
   "metadata": {},
   "source": [
    "Si corrés la celda anterior de nuevo, vas a ver que cambian los números correlativos.\n",
    "\n",
    "Puede ser un poco aburrido lo que te mostré hasta ahora, pero no te preocupes, vas a aprender a hacer cosas muchisisísimo más copadas, incluso, que la siguiente:"
   ]
  },
  {
   "cell_type": "code",
   "execution_count": null,
   "metadata": {
    "scrolled": true
   },
   "outputs": [],
   "source": [
    "x,t,z,y = var('x,t,z,y')\n",
    "# Example with torus knots\n",
    "@interact\n",
    "def _(m=slider(1,10,1, default=3),n=slider(1,10,1,default=5)):\n",
    "    T = parametric_plot([(3 + cos(x))*cos(y), (3 + cos(x))*sin(y), sin(x)], [x, -pi, pi], [y,-pi,pi], opacity=0.7, color = \"orchid\")\n",
    "    K = parametric_plot([(3.05 + 1.1*cos(m*t))*cos(n*t), (3.05 + 1.1*cos(m*t))*sin(n*t), 1.1*sin(m*t)], [t, -pi, pi], plot_points=200, thickness=3, color='blue')\n",
    "    show(T + K)"
   ]
  },
  {
   "cell_type": "markdown",
   "metadata": {},
   "source": [
    "Quizás es demasiado para explicar de una, pero la siguiente seguro se entiende mejor."
   ]
  },
  {
   "cell_type": "code",
   "execution_count": null,
   "metadata": {},
   "outputs": [],
   "source": [
    "plot(sin(x),0,pi)"
   ]
  },
  {
   "cell_type": "markdown",
   "metadata": {},
   "source": [
    "## 0.1.2 Juguemos!\n",
    "\n",
    "Te propongo ahora que juegues un poco con la expresión anterior: que cambies el rango donde se mueve la variable x, que cambies la función, en fin, fijate qué cosas pasan.\n",
    "\n",
    "Viste que SageMAth es bastante genio, como que re entiende que la variable con la cual tiene que dibujar es la \"x\". Qué pasará si le ponés otro nombre?\n",
    "\n",
    "Dejame que te recuerde que para editar la celda te ubicás en ella moviendo las con flechas (siempre que estés en azul), y luego apretás Enter, se cambia a verde y ya te deja editar. Para correrla, always Shift+Enter."
   ]
  },
  {
   "cell_type": "markdown",
   "metadata": {},
   "source": [
    "## 0.1 Vamos terminando la charla inicial\n",
    "\n",
    "Para terminar, te quiero contar un par de cosas más que te van a ser de mucha utilidad.\n",
    "\n",
    "- Si estás en azul y apretás la tecla \"a\", se crea de la nada una celda vacía arriba de donde estás.\n",
    "- Si estás en azul y apretás la tecla \"b\", se crea de la nada una celda vacía abajo de donde estás.\n",
    " Estas celdas son siempre tipo Code.\n",
    "- Para pasarlas a Markdown, estando en azul apretás la tecla \"m\".\n",
    "- Para volverlas a Code, apretá (siempre en azul!) la tecla \"y\".\n",
    "- Para borrar una celda, siempre que estás en azul, apreta la tecla \"d\" dos veces seguidas.\n",
    "\n",
    "Hay varios shortcuts más (Google es nuestro aliade), estos que te dije son los que más uso yo, pero para gustos colores.\n",
    "\n",
    "Antes de pasar a la sección próxima, te invito a que juegues con estos comandos que te dije.\n",
    "\n",
    "- Ah, si borraste de más alguna celda, en azul, apretá la \"z\".\n",
    "Te va a ayudar, pero no te confíes ni le pidas mucho.\n",
    "\n",
    "Esta capaz te la tendría que haber dicho hace rato, va ahora:\n",
    "- Para pasar de verde a azul *sin ejecutar* apretás \"Esc\".\n",
    "\n",
    "Uy me faltó algo más, no te la quiero hacer lunga, pero obviamente todo esto y más lo podés hacer desde los menúes de arriba (segunda y tercera líneas). Si sos más del mouse te conviene chusmear cómo hacer estas cosas apuntando y clickeando."
   ]
  },
  {
   "cell_type": "markdown",
   "metadata": {},
   "source": [
    "# 1. Básicos\n",
    "\n",
    "\n",
    "Vamos a ir aprendiendo a usar Sage desde lo más básico. Personalmente estoy aprendiendo mientras estoy escribiendo. Literal. Voy a ir siguiendo selectivamente un tutorial de por ahí y les agregaré muchas notas mías.\n",
    "\n",
    "SageMath está basado en Python en el sentido que la sintaxis es la misma y es muy fácil e intuitiva, y que es un lenguaje orientado a objetos, esto significa que cada cosa será un objeto de una clase.\n",
    "\n",
    "Si sabés algo de Python te va a venir joya, si no, no desesperar que si vas aprendiendo SageMath de yapa vas aprendiendo Python.\n",
    "\n",
    "Sobre lo de los objetos y las clases, no es necesario que sepas bien de qué se trata tampoco, pero si te copa está bueno también aprenderlo."
   ]
  },
  {
   "cell_type": "markdown",
   "metadata": {},
   "source": [
    "## 1.1 Asignación y comparación\n",
    "\n",
    "Para realizar la asignación nombre-objeto, se usa \"=\". Es decir, si queremos guardar en el nombre \"a\" el valor \"32\", simplemente escribimos \"a = 32\".\n",
    "\n",
    "Para comparar se usa \"==\" , \"!=\", \"<=\", \">=\", \"<\" y \">\". Ejemplificamos:"
   ]
  },
  {
   "cell_type": "code",
   "execution_count": null,
   "metadata": {},
   "outputs": [],
   "source": [
    "a = 32 "
   ]
  },
  {
   "cell_type": "markdown",
   "metadata": {},
   "source": [
    "Acabamos de guardar el valor 32 en \"a\". Estudiemos un poquito esto, para eso usaremos un par de comandos que nos van a ser de \n",
    "utilidad. Te invito a correr las siguientes líneas e interpretar qué está sucediendo."
   ]
  },
  {
   "cell_type": "code",
   "execution_count": null,
   "metadata": {},
   "outputs": [],
   "source": [
    "a"
   ]
  },
  {
   "cell_type": "code",
   "execution_count": null,
   "metadata": {},
   "outputs": [],
   "source": [
    "print(a)"
   ]
  },
  {
   "cell_type": "code",
   "execution_count": null,
   "metadata": {},
   "outputs": [],
   "source": [
    "type(a)"
   ]
  },
  {
   "cell_type": "code",
   "execution_count": null,
   "metadata": {},
   "outputs": [],
   "source": [
    "type(32)"
   ]
  },
  {
   "cell_type": "code",
   "execution_count": null,
   "metadata": {},
   "outputs": [],
   "source": [
    "a == 32"
   ]
  },
  {
   "cell_type": "code",
   "execution_count": null,
   "metadata": {},
   "outputs": [],
   "source": [
    "32 == a"
   ]
  },
  {
   "cell_type": "code",
   "execution_count": null,
   "metadata": {},
   "outputs": [],
   "source": [
    "b = a"
   ]
  },
  {
   "cell_type": "code",
   "execution_count": null,
   "metadata": {},
   "outputs": [],
   "source": [
    "b"
   ]
  },
  {
   "cell_type": "code",
   "execution_count": null,
   "metadata": {},
   "outputs": [],
   "source": [
    "b == a"
   ]
  },
  {
   "cell_type": "code",
   "execution_count": null,
   "metadata": {},
   "outputs": [],
   "source": [
    "a == b"
   ]
  },
  {
   "cell_type": "code",
   "execution_count": null,
   "metadata": {},
   "outputs": [],
   "source": [
    "c = a"
   ]
  },
  {
   "cell_type": "code",
   "execution_count": null,
   "metadata": {},
   "outputs": [],
   "source": [
    "print(c)"
   ]
  },
  {
   "cell_type": "code",
   "execution_count": null,
   "metadata": {},
   "outputs": [],
   "source": [
    "b = 2"
   ]
  },
  {
   "cell_type": "code",
   "execution_count": null,
   "metadata": {},
   "outputs": [],
   "source": [
    "b"
   ]
  },
  {
   "cell_type": "code",
   "execution_count": null,
   "metadata": {},
   "outputs": [],
   "source": [
    "a"
   ]
  },
  {
   "cell_type": "code",
   "execution_count": null,
   "metadata": {},
   "outputs": [],
   "source": [
    "a == b"
   ]
  },
  {
   "cell_type": "code",
   "execution_count": null,
   "metadata": {},
   "outputs": [],
   "source": [
    "a = 5"
   ]
  },
  {
   "cell_type": "code",
   "execution_count": null,
   "metadata": {},
   "outputs": [],
   "source": [
    "a"
   ]
  },
  {
   "cell_type": "code",
   "execution_count": null,
   "metadata": {},
   "outputs": [],
   "source": [
    "b"
   ]
  },
  {
   "cell_type": "code",
   "execution_count": null,
   "metadata": {},
   "outputs": [],
   "source": [
    "c"
   ]
  },
  {
   "cell_type": "code",
   "execution_count": null,
   "metadata": {},
   "outputs": [],
   "source": [
    "5 == a"
   ]
  },
  {
   "cell_type": "code",
   "execution_count": null,
   "metadata": {},
   "outputs": [],
   "source": [
    "a >= b"
   ]
  },
  {
   "cell_type": "code",
   "execution_count": null,
   "metadata": {},
   "outputs": [],
   "source": [
    "a != 32"
   ]
  },
  {
   "cell_type": "code",
   "execution_count": null,
   "metadata": {},
   "outputs": [],
   "source": [
    "ab=43\n",
    "ab"
   ]
  },
  {
   "cell_type": "code",
   "execution_count": null,
   "metadata": {},
   "outputs": [],
   "source": [
    "a,b,ab"
   ]
  },
  {
   "cell_type": "code",
   "execution_count": null,
   "metadata": {},
   "outputs": [],
   "source": [
    "print(a,b,ab)"
   ]
  },
  {
   "cell_type": "markdown",
   "metadata": {},
   "source": [
    "Te invito a que jueguen con estas cositas. Print y type son buenos aliados, y muchas veces nos serán de utilidad.\n",
    "\n",
    "Si se te arma lío, siempre podés poner en el menú \"Kernel\" la opción \"Restart\" que olvida todo lo que tiene guardado, y la que yo prefiero a veces es \"Restart and clear output\" que te borra además las salidas."
   ]
  },
  {
   "cell_type": "markdown",
   "metadata": {},
   "source": [
    "Tomate tu tiempo para jugar, y cuando estés listx  seguimos.\n",
    "\n",
    "Una cosa que hay que observar antes es que hay valores guardados en \"a\", \"b\" y en \"ab\". No cualquier seguidilla de caracteres puede guardar algún objeto, el nombre que utilicemos\n",
    "- no puede empezar por números, si los puede contener,\n",
    "- no puede ser uno de la lista de reservados, como por ejemplo \"if\"\n"
   ]
  },
  {
   "cell_type": "code",
   "execution_count": null,
   "metadata": {},
   "outputs": [],
   "source": [
    "1a = 34"
   ]
  },
  {
   "cell_type": "code",
   "execution_count": null,
   "metadata": {},
   "outputs": [],
   "source": [
    "if = 4"
   ]
  },
  {
   "cell_type": "markdown",
   "metadata": {},
   "source": [
    "## 1.2 Operaciones\n",
    "\n",
    "Veamos cómo sumar, restar, dividir, exponenciar y más!"
   ]
  },
  {
   "cell_type": "markdown",
   "metadata": {},
   "source": [
    "Arranquemos sumando y restando."
   ]
  },
  {
   "cell_type": "code",
   "execution_count": null,
   "metadata": {},
   "outputs": [],
   "source": [
    "3+4"
   ]
  },
  {
   "cell_type": "code",
   "execution_count": null,
   "metadata": {},
   "outputs": [],
   "source": [
    "5-6"
   ]
  },
  {
   "cell_type": "code",
   "execution_count": null,
   "metadata": {},
   "outputs": [],
   "source": [
    "a"
   ]
  },
  {
   "cell_type": "code",
   "execution_count": null,
   "metadata": {},
   "outputs": [],
   "source": [
    "a+2"
   ]
  },
  {
   "cell_type": "code",
   "execution_count": null,
   "metadata": {},
   "outputs": [],
   "source": [
    "a-2"
   ]
  },
  {
   "cell_type": "code",
   "execution_count": null,
   "metadata": {},
   "outputs": [],
   "source": [
    "a+b"
   ]
  },
  {
   "cell_type": "code",
   "execution_count": null,
   "metadata": {},
   "outputs": [],
   "source": [
    "a-b"
   ]
  },
  {
   "cell_type": "code",
   "execution_count": null,
   "metadata": {},
   "outputs": [],
   "source": [
    "a+2\n",
    "a-2"
   ]
  },
  {
   "cell_type": "markdown",
   "metadata": {},
   "source": [
    "Observemos que el output es la última línea de código.\n",
    "\n",
    "Cuando ejecutamos una celda, se ejecutan todas las líneas de la misma, por eso el output en este caso es la última línea que se ejecutó.\n",
    "\n",
    "Si quisiéramos que imprima los dos resultados pero corriendo sólo una celda, usamos print:"
   ]
  },
  {
   "cell_type": "code",
   "execution_count": null,
   "metadata": {},
   "outputs": [],
   "source": [
    "print(a+2)\n",
    "print(a-2)"
   ]
  },
  {
   "cell_type": "code",
   "execution_count": null,
   "metadata": {},
   "outputs": [],
   "source": [
    "print(a+2)\n",
    "a-2"
   ]
  },
  {
   "cell_type": "markdown",
   "metadata": {},
   "source": [
    "¿Ves alguna diferencia? No sólo la letra es diferente, el \"Out\" del código es la última línea. Si no usamos \"print\" nos muestra el output en LaTex. Si no hubiéramos corrido el %display latex, veríamos todo igual."
   ]
  },
  {
   "cell_type": "markdown",
   "metadata": {},
   "source": [
    "Multipliquemos y dividamos."
   ]
  },
  {
   "cell_type": "code",
   "execution_count": null,
   "metadata": {},
   "outputs": [],
   "source": [
    "3*4"
   ]
  },
  {
   "cell_type": "code",
   "execution_count": null,
   "metadata": {},
   "outputs": [],
   "source": [
    "a = 5"
   ]
  },
  {
   "cell_type": "code",
   "execution_count": null,
   "metadata": {},
   "outputs": [],
   "source": [
    "b = 2"
   ]
  },
  {
   "cell_type": "code",
   "execution_count": null,
   "metadata": {},
   "outputs": [],
   "source": [
    "a*3"
   ]
  },
  {
   "cell_type": "code",
   "execution_count": null,
   "metadata": {},
   "outputs": [],
   "source": [
    "a*b"
   ]
  },
  {
   "cell_type": "code",
   "execution_count": null,
   "metadata": {},
   "outputs": [],
   "source": [
    "27/2"
   ]
  },
  {
   "cell_type": "code",
   "execution_count": null,
   "metadata": {},
   "outputs": [],
   "source": [
    "a/3"
   ]
  },
  {
   "cell_type": "code",
   "execution_count": null,
   "metadata": {},
   "outputs": [],
   "source": [
    "type(a/3)"
   ]
  },
  {
   "cell_type": "markdown",
   "metadata": {},
   "source": [
    "Observemos que antes en tipo aparecía Integer, ahora aparece Rational. En un rato hablaremos un poquito más de esto."
   ]
  },
  {
   "cell_type": "code",
   "execution_count": null,
   "metadata": {},
   "outputs": [],
   "source": [
    "a/b"
   ]
  },
  {
   "cell_type": "code",
   "execution_count": null,
   "metadata": {},
   "outputs": [],
   "source": [
    "type(a/b)"
   ]
  },
  {
   "cell_type": "markdown",
   "metadata": {},
   "source": [
    "Aunque sea un resultado entero, lo muestra como racional."
   ]
  },
  {
   "cell_type": "markdown",
   "metadata": {},
   "source": [
    "El símbolo % es la función módulo para argumentos enteros, o sea, devuelve el resto. Veamos:"
   ]
  },
  {
   "cell_type": "code",
   "execution_count": null,
   "metadata": {},
   "outputs": [],
   "source": [
    "5%1"
   ]
  },
  {
   "cell_type": "code",
   "execution_count": null,
   "metadata": {},
   "outputs": [],
   "source": [
    "5%2"
   ]
  },
  {
   "cell_type": "code",
   "execution_count": null,
   "metadata": {},
   "outputs": [],
   "source": [
    "5%3"
   ]
  },
  {
   "cell_type": "code",
   "execution_count": null,
   "metadata": {},
   "outputs": [],
   "source": [
    "5%4"
   ]
  },
  {
   "cell_type": "code",
   "execution_count": null,
   "metadata": {},
   "outputs": [],
   "source": [
    "5%5"
   ]
  },
  {
   "cell_type": "markdown",
   "metadata": {},
   "source": [
    "Además, si ponemos // nos devuelve el cociente entero. Veamos:"
   ]
  },
  {
   "cell_type": "code",
   "execution_count": null,
   "metadata": {},
   "outputs": [],
   "source": [
    "5//1"
   ]
  },
  {
   "cell_type": "code",
   "execution_count": null,
   "metadata": {},
   "outputs": [],
   "source": [
    "5//2"
   ]
  },
  {
   "cell_type": "code",
   "execution_count": null,
   "metadata": {},
   "outputs": [],
   "source": [
    "5//3"
   ]
  },
  {
   "cell_type": "code",
   "execution_count": null,
   "metadata": {},
   "outputs": [],
   "source": [
    "5//4"
   ]
  },
  {
   "cell_type": "code",
   "execution_count": null,
   "metadata": {},
   "outputs": [],
   "source": [
    "5//5"
   ]
  },
  {
   "cell_type": "markdown",
   "metadata": {},
   "source": [
    "Así tenemos el Algoritmo de la División:\n",
    "$$q * c + r = p $$"
   ]
  },
  {
   "cell_type": "code",
   "execution_count": null,
   "metadata": {},
   "outputs": [],
   "source": [
    "3*(5 // 3) + 5 % 3 == 5"
   ]
  },
  {
   "cell_type": "markdown",
   "metadata": {},
   "source": [
    "Para hacer potencias, se usa ^ o **"
   ]
  },
  {
   "cell_type": "code",
   "execution_count": null,
   "metadata": {},
   "outputs": [],
   "source": [
    "4^3"
   ]
  },
  {
   "cell_type": "code",
   "execution_count": null,
   "metadata": {},
   "outputs": [],
   "source": [
    "a^2"
   ]
  },
  {
   "cell_type": "code",
   "execution_count": null,
   "metadata": {},
   "outputs": [],
   "source": [
    "a**2"
   ]
  },
  {
   "cell_type": "code",
   "execution_count": null,
   "metadata": {},
   "outputs": [],
   "source": [
    "a^b"
   ]
  },
  {
   "cell_type": "code",
   "execution_count": null,
   "metadata": {},
   "outputs": [],
   "source": [
    "a**b"
   ]
  },
  {
   "cell_type": "markdown",
   "metadata": {},
   "source": [
    "Para tomar raíces podemos usar la potencia."
   ]
  },
  {
   "cell_type": "code",
   "execution_count": null,
   "metadata": {},
   "outputs": [],
   "source": [
    "sqrt(a)"
   ]
  },
  {
   "cell_type": "code",
   "execution_count": null,
   "metadata": {},
   "outputs": [],
   "source": [
    "64**(1/3)"
   ]
  },
  {
   "cell_type": "markdown",
   "metadata": {},
   "source": [
    "No lo hemos dicho, pero las convenciones de paréntesis matemáticos son respetadas por SageMath (menos mal!)."
   ]
  },
  {
   "cell_type": "code",
   "execution_count": null,
   "metadata": {},
   "outputs": [],
   "source": [
    "1024^(1/b)"
   ]
  },
  {
   "cell_type": "code",
   "execution_count": null,
   "metadata": {},
   "outputs": [],
   "source": [
    "sqrt(a)"
   ]
  },
  {
   "cell_type": "code",
   "execution_count": null,
   "metadata": {},
   "outputs": [],
   "source": [
    "type(sqrt(a))"
   ]
  },
  {
   "cell_type": "markdown",
   "metadata": {},
   "source": [
    "Apa."
   ]
  },
  {
   "cell_type": "markdown",
   "metadata": {},
   "source": [
    "Bua, ya volveremos. Hay también muchas otras funciones que SageMath conoce: las trigonométricas, exponenciales y raíces, por ejemplo:"
   ]
  },
  {
   "cell_type": "code",
   "execution_count": null,
   "metadata": {},
   "outputs": [],
   "source": [
    "sin(3.14)"
   ]
  },
  {
   "cell_type": "code",
   "execution_count": null,
   "metadata": {},
   "outputs": [],
   "source": [
    "type(sin(3.14))"
   ]
  },
  {
   "cell_type": "markdown",
   "metadata": {},
   "source": [
    "Bueno ya aparecen reales. Hay complejos también, y cositas. Está pi, y algune otre amigue."
   ]
  },
  {
   "cell_type": "code",
   "execution_count": null,
   "metadata": {},
   "outputs": [],
   "source": [
    "cos(3.1416)"
   ]
  },
  {
   "cell_type": "code",
   "execution_count": null,
   "metadata": {},
   "outputs": [],
   "source": [
    "sqrt(2500)"
   ]
  },
  {
   "cell_type": "code",
   "execution_count": null,
   "metadata": {},
   "outputs": [],
   "source": [
    "sqrt(-1)"
   ]
  },
  {
   "cell_type": "code",
   "execution_count": null,
   "metadata": {},
   "outputs": [],
   "source": [
    "type(sqrt(-1))"
   ]
  },
  {
   "cell_type": "code",
   "execution_count": null,
   "metadata": {},
   "outputs": [],
   "source": [
    "exp(2)"
   ]
  },
  {
   "cell_type": "code",
   "execution_count": null,
   "metadata": {},
   "outputs": [],
   "source": [
    "log(1)"
   ]
  },
  {
   "cell_type": "code",
   "execution_count": null,
   "metadata": {},
   "outputs": [],
   "source": [
    "exp(log(1))"
   ]
  },
  {
   "cell_type": "code",
   "execution_count": null,
   "metadata": {},
   "outputs": [],
   "source": [
    "sqrt(pi)"
   ]
  },
  {
   "cell_type": "markdown",
   "metadata": {},
   "source": [
    "Y hay varias formas de que los números con muchos decimales los aproxime. Por ejemplo:"
   ]
  },
  {
   "cell_type": "code",
   "execution_count": null,
   "metadata": {},
   "outputs": [],
   "source": [
    "sqrt(pi).numerical_approx()"
   ]
  },
  {
   "cell_type": "code",
   "execution_count": null,
   "metadata": {},
   "outputs": [],
   "source": [
    "sqrt(pi).n(digits=5)"
   ]
  },
  {
   "cell_type": "code",
   "execution_count": null,
   "metadata": {},
   "outputs": [],
   "source": [
    "n(sqrt(pi))"
   ]
  },
  {
   "cell_type": "code",
   "execution_count": null,
   "metadata": {},
   "outputs": [],
   "source": [
    "N(sqrt(pi),digits=10)"
   ]
  },
  {
   "cell_type": "code",
   "execution_count": null,
   "metadata": {},
   "outputs": [],
   "source": [
    "numerical_approx(sqrt(pi), prec=200)"
   ]
  },
  {
   "cell_type": "markdown",
   "metadata": {},
   "source": [
    "En las anteriores yo sólo copié y pegué. Si miran un poquito la sintaxis no es todo igual. Hay algunas que son funciones y otras métodos (y no son la misma cosa). Con el uso iremos viendo qué son los métodos, qué son funciones, como definirlos, como invocarlos, etc\n",
    "\n",
    "Desde aquí podemos ir a aprender muchas cosas: funciones, polinomios, resolución de ecuaciones, derivación e integración, ecuaciones diferenciales, álgebra abstracta!! (polinomios, grupos, anillos), teoría de números, de todo.\n",
    "\n",
    "Voy a ver por donde sigo, calculo que por tipos pero veremos... nos vemos en el archivo 02!"
   ]
  },
  {
   "cell_type": "markdown",
   "metadata": {},
   "source": [
    "## 1.3 Ejercicios"
   ]
  },
  {
   "cell_type": "markdown",
   "metadata": {},
   "source": [
    "Para que testees lo aprendido te dejo una serie de cositas para probar, la solución más abajo."
   ]
  },
  {
   "cell_type": "markdown",
   "metadata": {},
   "source": [
    "1) Tratá de calcular $3 \\times  24$ y $2 \\cos(\\frac{3}{2}\\pi)$."
   ]
  },
  {
   "cell_type": "code",
   "execution_count": null,
   "metadata": {},
   "outputs": [],
   "source": []
  },
  {
   "cell_type": "code",
   "execution_count": null,
   "metadata": {},
   "outputs": [],
   "source": []
  },
  {
   "cell_type": "markdown",
   "metadata": {},
   "source": [
    "2) Buscá una aproximación numérica de $\\dfrac{2^{100}}{15}$ de 40 dígitos. *Ayuda: revisá la documentación de la función `numerical_approx`.*"
   ]
  },
  {
   "cell_type": "code",
   "execution_count": null,
   "metadata": {},
   "outputs": [],
   "source": []
  },
  {
   "cell_type": "code",
   "execution_count": null,
   "metadata": {},
   "outputs": [],
   "source": []
  },
  {
   "cell_type": "markdown",
   "metadata": {},
   "source": [
    "## 1.4 Soluciones\n",
    "\n",
    "Te dejo acá un pelín de código que funciona para resolver los problemas que dejamos antes.\n",
    "\n",
    "1) a) 3 * 24\n",
    "1) b) cos( 3/2 * pi) \n",
    "\n",
    "2) a) numerical_approx?\n",
    "\n",
    "2) b) numerical_approx( (2**100)/15 , digits = 40 )\n"
   ]
  },
  {
   "cell_type": "markdown",
   "metadata": {},
   "source": [
    "---\n",
    "-- Mi nombre es Isolda E. Cardoso y armé la notebook esta y el tutorial completo. Año 2022.\n",
    "\n",
    "No soy experta, sólo lo hice para facilitarte un poco el camino que a mi me llevó un tiempo recorrer. Hay muchos recursos y tutoriales también, a mi me pintó escribir esto, pero sabelo que no es el único recurso disponible sobre la faz de la tierra.\n",
    "\n",
    "Soy docente investigadora en el Departamento de Matemática de la Escuela de Cs. Exactas y Naturales, de la Facultad de Cs. Exactas, Ingenieria y Agrimensura de la Universidad Nacional de Rosario, Argentina.\n",
    "\n",
    "Te dejo mi página laboral https://www.fceia.unr.edu.ar/~isolda/ y mi GitHub https://github.com/IsoldaEugenia.\n",
    "\n",
    "Sentite libre de contactarme.\n",
    "\n",
    "---"
   ]
  },
  {
   "cell_type": "code",
   "execution_count": null,
   "metadata": {},
   "outputs": [],
   "source": []
  }
 ],
 "metadata": {
  "kernelspec": {
   "display_name": "SageMath 9.3",
   "language": "sage",
   "name": "sagemath"
  },
  "language_info": {
   "codemirror_mode": {
    "name": "ipython",
    "version": 3
   },
   "file_extension": ".py",
   "mimetype": "text/x-python",
   "name": "python",
   "nbconvert_exporter": "python",
   "pygments_lexer": "ipython3",
   "version": "3.7.10"
  }
 },
 "nbformat": 4,
 "nbformat_minor": 2
}
