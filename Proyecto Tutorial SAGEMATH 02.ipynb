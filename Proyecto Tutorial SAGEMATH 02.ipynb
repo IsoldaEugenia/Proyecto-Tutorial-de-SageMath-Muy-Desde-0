{
 "cells": [
  {
   "cell_type": "markdown",
   "metadata": {},
   "source": [
    "# 2. Matrices\n",
    "\n",
    "En Matemática es indiscutida la importancia de las matrices. Son el alma del Álgebra Lineal, y no hay rama de la matemática donde no aparezca el álgebra lineal con sus matrices.\n",
    "\n",
    "SageMath no es menos y tiene definidas las matrices. Vamos a aprender un poco sobre ellas, pero primero necesitamos aprender otras cositas.\n",
    "\n",
    "## 2.1 Tipos de números\n",
    "\n",
    "Conocemos muchos conjuntos de números, SageMath también. Veamos:"
   ]
  },
  {
   "cell_type": "code",
   "execution_count": null,
   "metadata": {},
   "outputs": [],
   "source": [
    "type(1)"
   ]
  },
  {
   "cell_type": "code",
   "execution_count": null,
   "metadata": {},
   "outputs": [],
   "source": [
    "type(1/2)"
   ]
  },
  {
   "cell_type": "code",
   "execution_count": null,
   "metadata": {},
   "outputs": [],
   "source": [
    "type(0.5)"
   ]
  },
  {
   "cell_type": "code",
   "execution_count": null,
   "metadata": {},
   "outputs": [],
   "source": [
    "type(pi)"
   ]
  },
  {
   "cell_type": "code",
   "execution_count": null,
   "metadata": {},
   "outputs": [],
   "source": [
    "type(sqrt(-1))"
   ]
  },
  {
   "cell_type": "markdown",
   "metadata": {},
   "source": [
    "Por lo que vemos, SageMath interpreta a nuestros enteros, racionales, reales y complejos. Tienen nombre: ZZ, QQ, RR, CC, respectivamente. Los interpreta a lo Sage, digamos.\n",
    "\n",
    "Quiero decir con esto un par de cosas:\n",
    "- Sage entiende algebraicamente los enteros y los racionales, pero los reales los entiende con aritmética aproximada, igual a los complejos;\n",
    "- si bien SageMath es *igualiiiiito* a Python, los enteros de Python no son los enteros de SageMath.\n",
    "\n",
    "Así que si, llegado el momento, tenemos que hacer alguna tramoya, tengamos en cuenta este detallecito.\n",
    "\n",
    "Si estas palabras no te dicen nada, dale nomás que por ahora podemos seguir viviendo sin saberlo."
   ]
  },
  {
   "cell_type": "markdown",
   "metadata": {},
   "source": [
    "Otra forma de saber dónde están las cosas para Sage es utilizando el método base_ring():"
   ]
  },
  {
   "cell_type": "code",
   "execution_count": null,
   "metadata": {},
   "outputs": [],
   "source": [
    "1.base_ring()"
   ]
  },
  {
   "cell_type": "code",
   "execution_count": null,
   "metadata": {},
   "outputs": [],
   "source": [
    "(1/2).base_ring()"
   ]
  },
  {
   "cell_type": "code",
   "execution_count": null,
   "metadata": {},
   "outputs": [],
   "source": [
    "(0.5).base_ring()"
   ]
  },
  {
   "cell_type": "code",
   "execution_count": null,
   "metadata": {},
   "outputs": [],
   "source": [
    "i**2"
   ]
  },
  {
   "cell_type": "code",
   "execution_count": null,
   "metadata": {},
   "outputs": [],
   "source": [
    "i.base_ring()"
   ]
  },
  {
   "cell_type": "markdown",
   "metadata": {},
   "source": [
    "Qué pasooo?? Je, no te desesperes, fijate que dice Rational Field, o sea, un campo de cocientes. Si, es nuestro CC. Y con la sqrt(-1)? Y bue, habrá que tener paciencia:"
   ]
  },
  {
   "cell_type": "code",
   "execution_count": null,
   "metadata": {},
   "outputs": [],
   "source": [
    "type(i)"
   ]
  },
  {
   "cell_type": "code",
   "execution_count": null,
   "metadata": {},
   "outputs": [],
   "source": [
    "(sqrt(-1)).base_ring()"
   ]
  },
  {
   "cell_type": "markdown",
   "metadata": {},
   "source": [
    "Y esto? Bueno, es otra forma de \"ver\" a i, en este caso como elemento de un anillo simbólico. Para comprender mejor, hay que leer la documentación de SageMath. En un ratito vamos a hablar un poco más sobre esto de la documentación."
   ]
  },
  {
   "cell_type": "code",
   "execution_count": null,
   "metadata": {},
   "outputs": [],
   "source": [
    "sqrt(-1) == i"
   ]
  },
  {
   "cell_type": "markdown",
   "metadata": {},
   "source": [
    "Hay otra manera más de chequear si un objeto está en alguno de estos anillos: in."
   ]
  },
  {
   "cell_type": "code",
   "execution_count": null,
   "metadata": {},
   "outputs": [],
   "source": [
    "1 in ZZ "
   ]
  },
  {
   "cell_type": "code",
   "execution_count": null,
   "metadata": {},
   "outputs": [],
   "source": [
    "1 in CC"
   ]
  },
  {
   "cell_type": "code",
   "execution_count": null,
   "metadata": {},
   "outputs": [],
   "source": [
    "0.5 in QQ"
   ]
  },
  {
   "cell_type": "code",
   "execution_count": null,
   "metadata": {},
   "outputs": [],
   "source": [
    "pi in QQ"
   ]
  },
  {
   "cell_type": "code",
   "execution_count": null,
   "metadata": {},
   "outputs": [],
   "source": [
    "i in RR"
   ]
  },
  {
   "cell_type": "code",
   "execution_count": null,
   "metadata": {},
   "outputs": [],
   "source": [
    "i in CC"
   ]
  },
  {
   "cell_type": "markdown",
   "metadata": {},
   "source": [
    "Hace un ratito hablé de \"método\". Y en la notebook anterior hablé de \"funciones y métodos\". Por ahora podemos decir que si queremos utilizar una función, la aplicamos al objeto. Y si queremos usar un método, usamos el punto . y luego llamamos al método. Te doy un par de ejemplos para que no te la vueles mucho con esto por ahora."
   ]
  },
  {
   "cell_type": "code",
   "execution_count": null,
   "metadata": {},
   "outputs": [],
   "source": [
    "(4/5).numerator() #\"numerator\" como método"
   ]
  },
  {
   "cell_type": "code",
   "execution_count": null,
   "metadata": {},
   "outputs": [],
   "source": [
    "numerator(4/5) #\"numerator\" como función"
   ]
  },
  {
   "cell_type": "markdown",
   "metadata": {},
   "source": [
    "No siempre tenemos un algo que actúe como función y método, a veces es una, a veces la otra.\n",
    "\n",
    "Fijate, de paso, que usé # para comentar *dentro* de la celda de código. Será un gran aliado. El intérprete no lee todo lo que \n",
    "le sigue al símbolo *numeral*, también llamado *sharp*, ahora más conocido como *hashtag* (y quizás nosotrxs deberíamos hacer lo mismo, no se, me puse filósofa con las redes sociales =D)."
   ]
  },
  {
   "cell_type": "code",
   "execution_count": null,
   "metadata": {},
   "outputs": [],
   "source": [
    "a = 4/5"
   ]
  },
  {
   "cell_type": "markdown",
   "metadata": {},
   "source": [
    "Para ver los métodos que existen y se pueden aplicar a \"a\", una forma que es recomendable comenzar a usar es la siguiente: escribir \"a.\" y apretar \"Tab\". Probalo y fijate toooodo lo que sale!"
   ]
  },
  {
   "cell_type": "code",
   "execution_count": null,
   "metadata": {},
   "outputs": [],
   "source": [
    "a."
   ]
  },
  {
   "cell_type": "code",
   "execution_count": null,
   "metadata": {},
   "outputs": [],
   "source": [
    "a.abs"
   ]
  },
  {
   "cell_type": "code",
   "execution_count": null,
   "metadata": {},
   "outputs": [],
   "source": [
    "a.abs()"
   ]
  },
  {
   "cell_type": "markdown",
   "metadata": {},
   "source": [
    "Fijate arriba la diferencia. Algunos métodos piden que le pongas los paréntesis, y algunos hasta reciben argumenos en esos paréntesis. Si querés saber más sobre un método, escribí su nombre seguido de \"?\" y te sale la *documentación* en una ventanita pegada. Vas a tener que amigarte con la lectura de las documentaciones, sé que es medio bajón pero cuando le agarrás la mano te prometo que ayuda."
   ]
  },
  {
   "cell_type": "code",
   "execution_count": null,
   "metadata": {},
   "outputs": [],
   "source": [
    "abs?"
   ]
  },
  {
   "cell_type": "markdown",
   "metadata": {},
   "source": [
    "Fijate que de abs dice q es función o método. Y algunas otras cositas, ya te digo que hay que ir agarrándole la mano a esto de leer documentación.\n",
    "\n",
    "Ya hemos charlado de mil de cosas, no? Y todas las que faltan, esto recién empieza!!"
   ]
  },
  {
   "cell_type": "markdown",
   "metadata": {},
   "source": [
    "## 2.2 Strings, tuplas, listas, diccionarios y conjuntos\n",
    "\n",
    "Si, como Python, acá también tenemos estos tipos. Veremos re poquito porque hay taaaanto para aprender que mejor lo haremos sobre la marcha."
   ]
  },
  {
   "cell_type": "code",
   "execution_count": null,
   "metadata": {},
   "outputs": [],
   "source": [
    "nombre = \"Isolda\""
   ]
  },
  {
   "cell_type": "code",
   "execution_count": null,
   "metadata": {},
   "outputs": [],
   "source": [
    "día = 17"
   ]
  },
  {
   "cell_type": "code",
   "execution_count": null,
   "metadata": {},
   "outputs": [],
   "source": [
    "type(nombre)"
   ]
  },
  {
   "cell_type": "code",
   "execution_count": null,
   "metadata": {},
   "outputs": [],
   "source": [
    "fecha_de_nacimiento = (17,2,1980) #A que no lo parezco!!"
   ]
  },
  {
   "cell_type": "code",
   "execution_count": null,
   "metadata": {},
   "outputs": [],
   "source": [
    "type(fecha_de_nacimiento)"
   ]
  },
  {
   "cell_type": "code",
   "execution_count": null,
   "metadata": {},
   "outputs": [],
   "source": [
    "datos = [nombre, fecha_de_nacimiento]"
   ]
  },
  {
   "cell_type": "code",
   "execution_count": null,
   "metadata": {},
   "outputs": [],
   "source": [
    "datos"
   ]
  },
  {
   "cell_type": "code",
   "execution_count": null,
   "metadata": {},
   "outputs": [],
   "source": [
    "type(datos)"
   ]
  },
  {
   "cell_type": "code",
   "execution_count": null,
   "metadata": {},
   "outputs": [],
   "source": [
    "dia_1 = 17"
   ]
  },
  {
   "cell_type": "code",
   "execution_count": null,
   "metadata": {},
   "outputs": [],
   "source": [
    "datos"
   ]
  },
  {
   "cell_type": "code",
   "execution_count": null,
   "metadata": {},
   "outputs": [],
   "source": [
    "mes = \"febrero\""
   ]
  },
  {
   "cell_type": "code",
   "execution_count": null,
   "metadata": {},
   "outputs": [],
   "source": [
    "dia_2 = 2"
   ]
  },
  {
   "cell_type": "code",
   "execution_count": null,
   "metadata": {},
   "outputs": [],
   "source": [
    "quiniela_1 = \"la desgracia\""
   ]
  },
  {
   "cell_type": "code",
   "execution_count": null,
   "metadata": {},
   "outputs": [],
   "source": [
    "quiniela_2 = \"el niño\""
   ]
  },
  {
   "cell_type": "code",
   "execution_count": null,
   "metadata": {},
   "outputs": [],
   "source": [
    "quiniela = { quiniela_1 : dia_1, quiniela_2 : dia_2}"
   ]
  },
  {
   "cell_type": "code",
   "execution_count": null,
   "metadata": {},
   "outputs": [],
   "source": [
    "quiniela"
   ]
  },
  {
   "cell_type": "code",
   "execution_count": null,
   "metadata": {},
   "outputs": [],
   "source": [
    "type(quiniela)"
   ]
  },
  {
   "cell_type": "code",
   "execution_count": null,
   "metadata": {},
   "outputs": [],
   "source": [
    "numeros = { dia_1, dia_2}"
   ]
  },
  {
   "cell_type": "code",
   "execution_count": null,
   "metadata": {},
   "outputs": [],
   "source": [
    "numeros"
   ]
  },
  {
   "cell_type": "code",
   "execution_count": null,
   "metadata": {},
   "outputs": [],
   "source": [
    "type(numeros)"
   ]
  },
  {
   "cell_type": "markdown",
   "metadata": {},
   "source": [
    "Masssomeno es así: hemos definido variables de diferentes tipos y cada una de ellas tiene sus métodos (podés chusmear con el .+Tab), sin dudas irán apareciendo muchos que iremos explicando en su momento\n",
    "- str significa string o cadena\n",
    "- tuple significa tupla\n",
    "- list significa lista\n",
    "- dict significa diccionario\n",
    "- set significa set o conjunto"
   ]
  },
  {
   "cell_type": "markdown",
   "metadata": {},
   "source": [
    "Los elementos agrupados en string, tuple y list pueden ser accedidos mediante índices, fijate:"
   ]
  },
  {
   "cell_type": "code",
   "execution_count": null,
   "metadata": {},
   "outputs": [],
   "source": [
    "nombre[0]"
   ]
  },
  {
   "cell_type": "code",
   "execution_count": null,
   "metadata": {},
   "outputs": [],
   "source": [
    "nombre[1]"
   ]
  },
  {
   "cell_type": "code",
   "execution_count": null,
   "metadata": {},
   "outputs": [],
   "source": [
    "nombre[2]"
   ]
  },
  {
   "cell_type": "markdown",
   "metadata": {},
   "source": [
    "El próximo te va a dar error, seguí leyendo que abajo aclaramos un poco."
   ]
  },
  {
   "cell_type": "code",
   "execution_count": null,
   "metadata": {},
   "outputs": [],
   "source": [
    "nombre[35]"
   ]
  },
  {
   "cell_type": "code",
   "execution_count": null,
   "metadata": {},
   "outputs": [],
   "source": [
    "fecha_de_nacimiento[2]"
   ]
  },
  {
   "cell_type": "code",
   "execution_count": null,
   "metadata": {},
   "outputs": [],
   "source": [
    "fecha_de_nacimiento[-1]"
   ]
  },
  {
   "cell_type": "code",
   "execution_count": null,
   "metadata": {},
   "outputs": [],
   "source": [
    "datos[0]"
   ]
  },
  {
   "cell_type": "markdown",
   "metadata": {},
   "source": [
    "Aclaremos: lxs computadores cuentan desde 0, no desde 1. Y eso a veces trae confusiones, pero te terminás acostumbrando. Eso sí, jamás de los jamases vamos a tolerar que alguien nos diga que \"0\" es natural. Contá desde 0, contá desde -1, pero no me digas que es natural porque se arma la podrida!!\n",
    "\n",
    "Hablando de \"-1\", viste lo que pasó? Bueno, cuando ponés \"-\" cuenta para el otro lado. Y cuando ponés un indice que no está usado, te dice \"out of range\".\n",
    "\n",
    "Cozas, viste. Hablando de eso, hay dos funciones supermil útiles que tenés que aprender: len y range."
   ]
  },
  {
   "cell_type": "code",
   "execution_count": null,
   "metadata": {},
   "outputs": [],
   "source": [
    "len(nombre)"
   ]
  },
  {
   "cell_type": "code",
   "execution_count": null,
   "metadata": {},
   "outputs": [],
   "source": [
    "range(len(nombre))"
   ]
  },
  {
   "cell_type": "markdown",
   "metadata": {},
   "source": [
    "len te dice la longitud de esa variable. Y range arma un rango empezando (si no le decís nada) desde 0, llegando hasta uno antes (pues si por ejemplo queremos contar 6 cosas y empezamos desde 0, va a terminar en 5). Es como considerar el intervalo entero [[0,n)).\n",
    "\n",
    "Se pueden acortar los rangos, y hacer toda clase de locuras con ellos. Vamos a ver cómo usamos, generalmente, estas cosas. Y de paso hacemos nuestro primer loop."
   ]
  },
  {
   "cell_type": "code",
   "execution_count": null,
   "metadata": {},
   "outputs": [],
   "source": [
    "for i in range(len(datos)):\n",
    "    print(datos[i])"
   ]
  },
  {
   "cell_type": "markdown",
   "metadata": {},
   "source": [
    "Está clarísimo lo que hicimos?\n",
    "\n",
    "Movimos el número \"i\" en range(len(datos)). O sea, datos es una lista que tiene 2 elementos, len(datos) es 2. Range(2) es contar dos elementos arrancando del 0, o sea,  i recorre el valor 0 primero y el valor 1 después. Y luego no hace más nada porque ahí terminó de moverse i.\n",
    "\n",
    "Para el primer valor de i (que es 0) le pedimos que imprima el primer elemento de la lista datos: datos[0].\n",
    "\n",
    "Para el segundo valor de i (que es 1), le pedimos que imprima el elemento datos[1].\n",
    "\n",
    "Se RE entiende, no? La sintaxis es súuuuuper natural! Una cosa a tener en cuenta (o dos):\n",
    "- for hace recorrer una variable en un rango, así que debemos aclarar bien quienes son éstas,\n",
    "- después de esta línea, siempre van los dos puntos \":\", hacemos Enter y vas a ver que solito te *indenta*, es decir, deja los espacios necesarios para que el intérprete interprete (valga la redundancia) que todo lo que siga esté dentro del for.\n",
    "\n",
    "El espacio necesario de indentación o tabulación son cuatro espacios, pero por el amor de Jebús usá el tabulador (la tecla Tab).\n",
    "\n",
    "Esto que dije juega igual para el if, para el while, para def y para todo prácticamente."
   ]
  },
  {
   "cell_type": "markdown",
   "metadata": {},
   "source": [
    "Así que string, tuple y list son bastante buenardos. String y list tienen la característica que sus longitudes pueden cambiar (y hay métodos que las cambian! Se puede concatenar, slicear, partir, añadir, de toddy!), pero tuple no. Once a tuple, always a tuple. Corré e interpretá las siguietes celdas. Fijate que algunas van a dar error porque le estamos pidiendo peras al olmo."
   ]
  },
  {
   "cell_type": "code",
   "execution_count": null,
   "metadata": {},
   "outputs": [],
   "source": [
    "caracteristica = ' es la mejor'"
   ]
  },
  {
   "cell_type": "code",
   "execution_count": null,
   "metadata": {},
   "outputs": [],
   "source": [
    "nombre = nombre + caracteristica"
   ]
  },
  {
   "cell_type": "code",
   "execution_count": null,
   "metadata": {},
   "outputs": [],
   "source": [
    "nombre"
   ]
  },
  {
   "cell_type": "code",
   "execution_count": null,
   "metadata": {},
   "outputs": [],
   "source": [
    "datos"
   ]
  },
  {
   "cell_type": "code",
   "execution_count": null,
   "metadata": {},
   "outputs": [],
   "source": [
    "datos.append(\"mono\")"
   ]
  },
  {
   "cell_type": "code",
   "execution_count": null,
   "metadata": {},
   "outputs": [],
   "source": [
    "datos"
   ]
  },
  {
   "cell_type": "markdown",
   "metadata": {},
   "source": [
    "Algo que no te dije pero seguro habrás intuído, es que los strings se escriben *siempre* entre comillas. Usá las simples, usá las dobles, las que quieras."
   ]
  },
  {
   "cell_type": "code",
   "execution_count": null,
   "metadata": {},
   "outputs": [],
   "source": [
    "fecha_de_nacimiento"
   ]
  },
  {
   "cell_type": "code",
   "execution_count": null,
   "metadata": {},
   "outputs": [],
   "source": [
    "que_dia_era = \"domingo\""
   ]
  },
  {
   "cell_type": "code",
   "execution_count": null,
   "metadata": {},
   "outputs": [],
   "source": [
    "fecha_de_nacimiento + que_dia_era"
   ]
  },
  {
   "cell_type": "code",
   "execution_count": null,
   "metadata": {},
   "outputs": [],
   "source": [
    "fecha_de_nacimiento.append(que_dia_era)"
   ]
  },
  {
   "cell_type": "markdown",
   "metadata": {},
   "source": [
    "Las tuplas no cambian jamás de los jamases de tamaño. Ni sus entradas pueden cambiar de valor."
   ]
  },
  {
   "cell_type": "code",
   "execution_count": null,
   "metadata": {},
   "outputs": [],
   "source": [
    "fecha_de_nacimiento[2] = 1990"
   ]
  },
  {
   "cell_type": "code",
   "execution_count": null,
   "metadata": {},
   "outputs": [],
   "source": [
    "datos"
   ]
  },
  {
   "cell_type": "code",
   "execution_count": null,
   "metadata": {},
   "outputs": [],
   "source": [
    "datos[2] = \"mono de madera\""
   ]
  },
  {
   "cell_type": "code",
   "execution_count": null,
   "metadata": {},
   "outputs": [],
   "source": [
    "datos"
   ]
  },
  {
   "cell_type": "markdown",
   "metadata": {},
   "source": [
    "Bueno, ahora si que da para jugar no? Y eso que no le entramos aún a los diccionarios! Vamos a por ello:"
   ]
  },
  {
   "cell_type": "code",
   "execution_count": null,
   "metadata": {},
   "outputs": [],
   "source": [
    "quiniela"
   ]
  },
  {
   "cell_type": "code",
   "execution_count": null,
   "metadata": {},
   "outputs": [],
   "source": [
    "quiniela.keys()"
   ]
  },
  {
   "cell_type": "code",
   "execution_count": null,
   "metadata": {},
   "outputs": [],
   "source": [
    "quiniela.values()"
   ]
  },
  {
   "cell_type": "markdown",
   "metadata": {},
   "source": [
    "Básicamente dict es una asignación de doble entrada, una tabla si se quiere. Para acceder a sus elementos hacemos así"
   ]
  },
  {
   "cell_type": "code",
   "execution_count": null,
   "metadata": {},
   "outputs": [],
   "source": [
    "quiniela[\"la desgracia\"]"
   ]
  },
  {
   "cell_type": "markdown",
   "metadata": {},
   "source": [
    "Con un diccionario podemos guardar muchísima información, sólo hay que saber acceder a ella. Hay más formas, te las dejo para que las googlees. O punto tab!"
   ]
  },
  {
   "cell_type": "markdown",
   "metadata": {},
   "source": [
    "Vamos ahora a los sets. Siendo conjuntos no le podemos pedir mucho, no están ordenados y no es tan fácil acceder a sus elementos. Sí podemos hacer cosas que hacen los conjuntos, como por ejemplo chequear si un elemento está o no en el set, unir e intersecar."
   ]
  },
  {
   "cell_type": "code",
   "execution_count": null,
   "metadata": {},
   "outputs": [],
   "source": [
    "numeros"
   ]
  },
  {
   "cell_type": "code",
   "execution_count": null,
   "metadata": {},
   "outputs": [],
   "source": [
    "2 in numeros"
   ]
  },
  {
   "cell_type": "code",
   "execution_count": null,
   "metadata": {},
   "outputs": [],
   "source": [
    "45 in numeros"
   ]
  },
  {
   "cell_type": "code",
   "execution_count": null,
   "metadata": {},
   "outputs": [],
   "source": [
    "numeros.intersection({2,4}) "
   ]
  },
  {
   "cell_type": "markdown",
   "metadata": {},
   "source": [
    "Dale, poné punto y tab y jugá."
   ]
  },
  {
   "cell_type": "markdown",
   "metadata": {},
   "source": [
    "Bueno se que es bastantita información hasta acá. Pero estos tipos de datos son más que nada heredados de Python. SageMath tiene sus propios tipos: vectores, matrices, etc. Los exploraremos en la Notebook 03."
   ]
  },
  {
   "cell_type": "markdown",
   "metadata": {},
   "source": [
    "## 2.3 Ejercicios"
   ]
  },
  {
   "cell_type": "markdown",
   "metadata": {},
   "source": [
    "Los ejercicios siguientes serán en torno a los tipos de números que SageMath entiende, no van a ser de tipos de datos porque esto es igualito a Python y si hay algo que explicar lo haremos en su momento. Si tuviera una moneda por cada tutorial de Python no estaría acá escribiendo esto, seguramente me podrían encontrar de eternas vacaciones en la Polinesia."
   ]
  },
  {
   "cell_type": "markdown",
   "metadata": {},
   "source": [
    "1) En las próximas dos celdas ingrese los números 7 y 7.0. Luego pida sus tipos. Preguntele a Sage si son iguales. ¿Qué interpreta de los outputs?"
   ]
  },
  {
   "cell_type": "code",
   "execution_count": null,
   "metadata": {},
   "outputs": [],
   "source": []
  },
  {
   "cell_type": "code",
   "execution_count": null,
   "metadata": {},
   "outputs": [],
   "source": []
  },
  {
   "cell_type": "markdown",
   "metadata": {},
   "source": [
    "2) Compare los resultados de $3+5^6$ y $3.0 + 5^6$. ¿Qué deduce?"
   ]
  },
  {
   "cell_type": "code",
   "execution_count": null,
   "metadata": {},
   "outputs": [],
   "source": []
  },
  {
   "cell_type": "code",
   "execution_count": null,
   "metadata": {},
   "outputs": [],
   "source": []
  },
  {
   "cell_type": "markdown",
   "metadata": {},
   "source": [
    "3) Calcule 10/2 y 7/2. ¿Qué concluye acerca de cómo toma Sage estos números?"
   ]
  },
  {
   "cell_type": "code",
   "execution_count": null,
   "metadata": {},
   "outputs": [],
   "source": []
  },
  {
   "cell_type": "code",
   "execution_count": null,
   "metadata": {},
   "outputs": [],
   "source": []
  },
  {
   "cell_type": "markdown",
   "metadata": {},
   "source": [
    "## 2.4 Soluciones\n",
    "\n",
    "1) a) type( 7 )\n",
    "\n",
    "1) b) type( 7.0 )\n",
    "\n",
    "1) c) 7 == 7.0\n",
    "\n",
    "\n",
    "Para SageMath 7 es entero y 7.0 es un punto flotante, es decir, una aproximación computacional de un número real.\n",
    "\n",
    "2) Al ingresar estos números vemos que Sage hace lo que puede: trata de ubicar el resultado en el conjunto más pequeño que consigue que contenga a los argumentos.\n",
    "\n",
    "3) Cuando calcula una división, Sage trata de poner el resultado exacto simplificando sólo cuando es posible."
   ]
  },
  {
   "cell_type": "markdown",
   "metadata": {},
   "source": [
    "## 2.5 Reflexión\n",
    "\n",
    "Lo que hemos expuesto muestra que Sage es un sistema algebraico computacional, salvo que se le diga específicamente, ejecuta cálculos simbólicos en lugar de cálculos numéricos."
   ]
  },
  {
   "cell_type": "markdown",
   "metadata": {},
   "source": [
    "---\n",
    "-- Mi nombre es Isolda E. Cardoso y armé la notebook esta y el tutorial completo. Año 2022.\n",
    "\n",
    "No soy experta, sólo lo hice para facilitarte un poco el camino que a mi me llevó un tiempo recorrer. Hay muchos recursos y tutoriales también, a mi me pintó escribir esto, pero sabelo que no es el único recurso disponible sobre la faz de la tierra.\n",
    "\n",
    "Soy docente investigadora en el Departamento de Matemática de la Escuela de Cs. Exactas y Naturales, de la Facultad de Cs. Exactas, Ingenieria y Agrimensura de la Universidad Nacional de Rosario, Argentina.\n",
    "\n",
    "Te dejo mi página laboral https://www.fceia.unr.edu.ar/~isolda/ y mi GitHub https://github.com/IsoldaEugenia.\n",
    "\n",
    "Sentite libre de contactarme.\n",
    "\n",
    "---"
   ]
  }
 ],
 "metadata": {
  "kernelspec": {
   "display_name": "SageMath 9.3",
   "language": "sage",
   "name": "sagemath"
  },
  "language_info": {
   "codemirror_mode": {
    "name": "ipython",
    "version": 3
   },
   "file_extension": ".py",
   "mimetype": "text/x-python",
   "name": "python",
   "nbconvert_exporter": "python",
   "pygments_lexer": "ipython3",
   "version": "3.7.10"
  }
 },
 "nbformat": 4,
 "nbformat_minor": 2
}
